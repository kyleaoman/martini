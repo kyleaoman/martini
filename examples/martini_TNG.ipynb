{
 "cells": [
  {
   "cell_type": "markdown",
   "metadata": {},
   "source": [
    "In this short tutorial we will install and use [MARTINI](https://kyleaoman.github.io/martini/build/html/includeme.html), an analysis package for creating mock HI-data cubes similar to radio interferometer data, written by Kyle Oman (kyle.a.oman@durham.ac.uk)."
   ]
  },
  {
   "cell_type": "markdown",
   "metadata": {},
   "source": [
    "This walkthrough will also show how you can download and install additional software into your JupyterLab environment to assist in analysis of Illustris[TNG] simulations."
   ]
  },
  {
   "cell_type": "markdown",
   "metadata": {},
   "source": [
    "![MARTINI](http://kyleaoman.github.io/martini/build/html/_images/martini_banner.png)"
   ]
  },
  {
   "cell_type": "markdown",
   "metadata": {},
   "source": [
    "MARTINI is a modular package for the creation of synthetic resolved HI line observations (data cubes) of smoothed-particle hydrodynamics simulations of galaxies. The various aspects of the mock-observing process are divided logically into sub-modules handling the data cube, source, beam, noise, spectral model and SPH kernel. MARTINI is object-oriented: each sub-module provides a class (or classes) which can be configured as desired. For most sub-modules, base classes are provided to allow for straightforward customization. Instances of each sub-module class are then given as parameters to the Martini class. A mock observation is then constructed by calling a handful of functions to execute the desired steps in the mock-observing process."
   ]
  },
  {
   "cell_type": "markdown",
   "metadata": {},
   "source": [
    "## Installation"
   ]
  },
  {
   "cell_type": "markdown",
   "metadata": {},
   "source": [
    "We will use `git` and `pip` to download and install [MARTINI from github](https://github.com/kyleaoman/martini). To do so:\n",
    "\n",
    "1. open up a shell (File -> New -> Terminal, in the menubar)\n",
    "2. click and drag its tab to the right, so you can see it and this notebook at the same time\n",
    "2. type the following commands:\n",
    "\n",
    "```\n",
    "git clone https://github.com/kyleaoman/martini\n",
    "pip install --user martini/\n",
    "\n",
    "git clone https://github.com/kyleaoman/Hdecompose\n",
    "pip install --user Hdecompose/\n",
    "```"
   ]
  },
  {
   "cell_type": "markdown",
   "metadata": {},
   "source": [
    "The `Hdecompose` package is a small helper to calculate the amount of atomic vs. molecular hydrogen (HI vs. H2) in a gas cell, given its total amount of neutral hydrogen. This step can use other \"H2 models\" in the future."
   ]
  },
  {
   "cell_type": "markdown",
   "metadata": {},
   "source": [
    "## TNG Example"
   ]
  },
  {
   "cell_type": "markdown",
   "metadata": {},
   "source": [
    "First, import Martini. "
   ]
  },
  {
   "cell_type": "code",
   "execution_count": null,
   "metadata": {},
   "outputs": [],
   "source": [
    "from martini.sources import TNGSource"
   ]
  },
  {
   "cell_type": "markdown",
   "metadata": {},
   "source": [
    "If this produces errors (like above), you may need to restart the Python kernel of this notebook so that it sees the recently installed packages (Kernel -> Restart Kernel in the menubar)."
   ]
  },
  {
   "cell_type": "code",
   "execution_count": null,
   "metadata": {},
   "outputs": [],
   "source": [
    "from martini.sources import TNGSource\n",
    "from martini import DataCube, Martini\n",
    "from martini.beams import GaussianBeam\n",
    "from martini.noise import GaussianNoise\n",
    "from martini.spectral_models import GaussianSpectrum\n",
    "from martini.sph_kernels import AdaptiveKernel, GaussianKernel, CubicSplineKernel, DiracDeltaKernel\n",
    "import astropy.units as U"
   ]
  },
  {
   "cell_type": "markdown",
   "metadata": {},
   "source": [
    "The parameters `myBasePath`, `mySnap` and `myId` follow the usual TNG conventions as in the `illustris_python` package. Here `myId` is the ID of the subhalo we wish to post-process."
   ]
  },
  {
   "cell_type": "code",
   "execution_count": null,
   "metadata": {},
   "outputs": [],
   "source": [
    "myBasePath = '../sims.TNG/TNG100-1/output/'\n",
    "mySnap = 99\n",
    "myId = 385350  # first central with 218 < Vmax < 220, and SFR > 1"
   ]
  },
  {
   "cell_type": "markdown",
   "metadata": {},
   "source": [
    "The different martini sub-modules need to be initialized, reading [this overview](https://kyleaoman.github.io/martini/build/html/martini.html) is recommended before continuing this example. \n",
    "\n",
    "See the [full documentation](https://kyleaoman.github.io/martini/build/html/) for the individual sub-modules for details of all configuration options. A few suggested best-practices specific to TNG are outlined below."
   ]
  },
  {
   "cell_type": "markdown",
   "metadata": {},
   "source": [
    "### SOURCE\n",
    "The rotation configuration takes an inclination (here 60deg) and\n",
    "rotation about the pole (here 0deg). The code attempts to\n",
    "automatically align the galactic disk in the y-z plane by aligning\n",
    "the angular momentum along the x-axis. The polar rotation is then\n",
    "applied, and finally the disc inclined by a rotation around the\n",
    "y-axis (the line of sight is along the x-axis). The automatic\n",
    "alignment will work for typical reasonably isolated discs, but will\n",
    "struggle when companions are present, when the angular momentum axis\n",
    "is a poor tracer of the disc plane, and especially for satellites. If\n",
    "finer control of the orientation is needed, derive the transformation\n",
    "from the simulation box coordinates to the desired coordinates for\n",
    "the 'observation', keeping in mind that the line of sight is along\n",
    "the x-axis. This rotation matrix can then be passed to rotation as\n",
    "{'rotmat': np.eye(3)} (here the identity rotation matrix used as an\n",
    "example). A common problem in this case is deriving the inverse\n",
    "transform instead of the forward transform, if unexpected results are\n",
    "obtained, first try passing the transpose of the rotation matrix.\n",
    "Note that initializing the source can take some time as the particle\n",
    "data must be read from disk."
   ]
  },
  {
   "cell_type": "code",
   "execution_count": null,
   "metadata": {},
   "outputs": [],
   "source": [
    "source = TNGSource(\n",
    "    myBasePath,\n",
    "    mySnap,\n",
    "    myId,\n",
    "    distance=30 * U.Mpc,\n",
    "    rotation={'L_coords': (60 * U.deg, 0. * U.deg)},\n",
    "    ra=0. * U.deg,\n",
    "    dec=0. * U.deg\n",
    ")"
   ]
  },
  {
   "cell_type": "markdown",
   "metadata": {},
   "source": [
    "### DATACUBE\n",
    "It is usually advisable to set the centre of the cube to track the\n",
    "centre of the source, as illustrated below. Note that the source\n",
    "systemic velocity is set according to the distance and Hubble's law.\n",
    "These values can instead be set explicitly, if desired. A datacube\n",
    "with 128x128 pixels usually takes a few minutes, 1024x1024 could take\n",
    "several hours. The number of channels has less influence on the\n",
    "runtime. Most of the runtime is spent when `M.insert_source_in_cube` is\n",
    "called below."
   ]
  },
  {
   "cell_type": "code",
   "execution_count": null,
   "metadata": {},
   "outputs": [],
   "source": [
    "datacube = DataCube(\n",
    "    n_px_x=128,\n",
    "    n_px_y=128,\n",
    "    n_channels=64,\n",
    "    px_size=10. * U.arcsec,\n",
    "    channel_width=40. * U.km * U.s ** -1,\n",
    "    velocity_centre=source.vsys,\n",
    "    ra=source.ra,\n",
    "    dec=source.dec\n",
    ")"
   ]
  },
  {
   "cell_type": "markdown",
   "metadata": {},
   "source": [
    "### BEAM\n",
    "It is usually advisable to set the beam size to be ~3x the pixel\n",
    "size. Note that the data cube is padded according to the size of the\n",
    "beam, this usually results in the number of pixel rows printed in the\n",
    "progress messages to differ from the requested dimensions. The\n",
    "padding is required for accurate convolution with the beam, but\n",
    "contains incorrect values after convolution and is discarded to\n",
    "produce the final data cube of the requested size."
   ]
  },
  {
   "cell_type": "code",
   "execution_count": null,
   "metadata": {},
   "outputs": [],
   "source": [
    "beam = GaussianBeam(\n",
    "    bmaj=30. * U.arcsec,\n",
    "    bmin=30. * U.arcsec,\n",
    "    bpa=0. * U.deg,\n",
    "    truncate=3.\n",
    ")"
   ]
  },
  {
   "cell_type": "markdown",
   "metadata": {},
   "source": [
    "### NOISE\n",
    "The noise is normally added before convolution with the beam (as\n",
    "below in this example). The rms value passed is for the noise before\n",
    "convolution, the rms noise in the output data cube will therefore\n",
    "typically differ from this value."
   ]
  },
  {
   "cell_type": "code",
   "execution_count": null,
   "metadata": {},
   "outputs": [],
   "source": [
    "noise = GaussianNoise(\n",
    "    rms=2.E-6 * U.Jy * U.arcsec ** -2\n",
    ")"
   ]
  },
  {
   "cell_type": "markdown",
   "metadata": {},
   "source": [
    "### SPECTRAL MODEL\n",
    "The 'subgrid' velocity dispersion can also be fixed to a constant\n",
    "value, e.g. `sigma=7 * U.km / U.s`."
   ]
  },
  {
   "cell_type": "code",
   "execution_count": null,
   "metadata": {},
   "outputs": [],
   "source": [
    "spectral_model = GaussianSpectrum(\n",
    "    sigma='thermal'\n",
    ")"
   ]
  },
  {
   "cell_type": "markdown",
   "metadata": {},
   "source": [
    "### SPH KERNEL\n",
    "Since IllustrisTNG uses a moving mesh hydrodynamics solver (Arepo),\n",
    "there are no formal SPH smoothing lengths and no specified kernel.\n",
    "However, approximate smoothing lengths can be derived from the cell\n",
    "volumes and densities, so a\n",
    "reasonable approximation is to use these for imaging. The choice of kernel depends on the resolution of the observation (i.e. the size of the sph smoothing kernel of each particle relative to the pixel size). The integration of the kernels is imlpemented approximately, and the approximations hold only over some range of kernel sizes. Some general rules of thumb:\n",
    " - For very low resolution observations (distant source and few pixels), use the DiracDeltaKernel.\n",
    " - For high resolution observations (nearby source and many pixels), preferably use the kernel matching that used to run the simulation. In the case of Arepo, which uses a moving mesh rather than SPH, the CubicSplineKernel is suggested.\n",
    " - For intermediate resolution observations (when the kernel size is similar to the pixel size), it may be difficult to find a kernel which does not raise an error. In this case, you may consider using the AdaptiveKernel. This module accepts a list of other kernels in order of decreasing priority. The first which is sufficiently accurate is used on a per-particle basis. This usage is illustrated in the example below."
   ]
  },
  {
   "cell_type": "code",
   "execution_count": null,
   "metadata": {},
   "outputs": [],
   "source": [
    "sph_kernel = AdaptiveKernel(\n",
    "    (\n",
    "        CubicSplineKernel(),\n",
    "        GaussianKernel(truncate=6)\n",
    "    )\n",
    ")"
   ]
  },
  {
   "cell_type": "markdown",
   "metadata": {},
   "source": [
    "Now set up the configuration, and do the actual run:"
   ]
  },
  {
   "cell_type": "code",
   "execution_count": null,
   "metadata": {},
   "outputs": [],
   "source": [
    "M = Martini(\n",
    "    source=source,\n",
    "    datacube=datacube,\n",
    "    beam=beam,\n",
    "    noise=noise,\n",
    "    spectral_model=spectral_model,\n",
    "    sph_kernel=sph_kernel\n",
    ")"
   ]
  },
  {
   "cell_type": "markdown",
   "metadata": {},
   "source": [
    "### Run the calculation"
   ]
  },
  {
   "cell_type": "markdown",
   "metadata": {},
   "source": [
    "Progress messages will be printed every `printfreq` rows; suppress by setting to `None`."
   ]
  },
  {
   "cell_type": "code",
   "execution_count": null,
   "metadata": {},
   "outputs": [],
   "source": [
    "M.insert_source_in_cube(printfreq=10)\n",
    "M.add_noise()\n",
    "M.convolve_beam()"
   ]
  },
  {
   "cell_type": "markdown",
   "metadata": {},
   "source": [
    "To write the results: two output formats are available, depending on preference. Both\n",
    "formats are self-documenting, via FITS header keywords and HDF5\n",
    "attributes, respectively. For HDF5 output, the beam image is included\n",
    "in the same file."
   ]
  },
  {
   "cell_type": "code",
   "execution_count": null,
   "metadata": {},
   "outputs": [],
   "source": [
    "M.write_fits('tngdemo.fits', channels='velocity')\n",
    "M.write_beam_fits('tngdemo_beam.fits', channels='velocity')\n",
    "M.write_hdf5('tngdemo.hdf5', channels='velocity')"
   ]
  },
  {
   "cell_type": "markdown",
   "metadata": {},
   "source": [
    "### Inspect the results"
   ]
  },
  {
   "cell_type": "markdown",
   "metadata": {},
   "source": [
    "Let's load the HDF5 that MARTINI produced and take a quick look."
   ]
  },
  {
   "cell_type": "code",
   "execution_count": null,
   "metadata": {},
   "outputs": [],
   "source": [
    "import h5py\n",
    "f = h5py.File('tngdemo.hdf5','r')"
   ]
  },
  {
   "cell_type": "code",
   "execution_count": null,
   "metadata": {},
   "outputs": [],
   "source": [
    "list(f.keys())"
   ]
  },
  {
   "cell_type": "code",
   "execution_count": null,
   "metadata": {},
   "outputs": [],
   "source": [
    "FluxCube = f['FluxCube'][()]\n",
    "vch = f['channel_mids'][()] / 1E3 - source.distance.to(U.Mpc).value*70  # m/s to km/s\n",
    "f.close()"
   ]
  },
  {
   "cell_type": "code",
   "execution_count": null,
   "metadata": {},
   "outputs": [],
   "source": [
    "FluxCube.shape"
   ]
  },
  {
   "cell_type": "markdown",
   "metadata": {},
   "source": [
    "Let's examine one of the velocity channels:"
   ]
  },
  {
   "cell_type": "code",
   "execution_count": null,
   "metadata": {},
   "outputs": [],
   "source": [
    "import matplotlib.pyplot as plt"
   ]
  },
  {
   "cell_type": "code",
   "execution_count": null,
   "metadata": {},
   "outputs": [],
   "source": [
    "fig = plt.figure(figsize=(16, 10))\n",
    "ax = fig.add_subplot(111)\n",
    "\n",
    "plt.imshow(FluxCube[:,:,32].T, cmap='magma', aspect=1.0, origin='lower')\n",
    "ax.autoscale(False)\n",
    "ax.set_xlabel('x [px = arcsec/10]')\n",
    "ax.set_ylabel('y [px = arcsec/10]')\n",
    "plt.colorbar(label='Flux [Jy/beam]');"
   ]
  },
  {
   "cell_type": "markdown",
   "metadata": {},
   "source": [
    "And do a quick plot of the first three moments:"
   ]
  },
  {
   "cell_type": "code",
   "execution_count": null,
   "metadata": {},
   "outputs": [],
   "source": [
    "import numpy as np\n",
    "np.seterr(all='ignore')\n",
    "fig = plt.figure(figsize=(16, 5))\n",
    "sp1 = fig.add_subplot(1,3,1)\n",
    "sp2 = fig.add_subplot(1,3,2)\n",
    "sp3 = fig.add_subplot(1,3,3)\n",
    "rms = np.std(FluxCube[:16, :16])  # noise in a corner patch where there is little signal\n",
    "clip = np.where(FluxCube > 5 * rms, 1, 0)\n",
    "mom0 = np.sum(FluxCube, axis=-1)\n",
    "mask = np.where(mom0 > .02, 1, np.nan)\n",
    "mom1 = np.sum(FluxCube * clip * vch, axis=-1) / mom0\n",
    "mom2 = np.sqrt(np.sum(FluxCube * clip * np.power(vch - mom1[..., np.newaxis], 2), axis=-1)) / mom0\n",
    "im1 = sp1.imshow(mom0.T, cmap='Greys', aspect=1.0, origin='lower')\n",
    "plt.colorbar(im1, ax=sp1, label='mom0 [Jy/beam]')\n",
    "im2 = sp2.imshow((mom1*mask).T, cmap='RdBu', aspect=1.0, origin='lower')\n",
    "plt.colorbar(im2, ax=sp2, label='mom1 [km/s]')\n",
    "im3 = sp3.imshow((mom2*mask).T, cmap='magma', aspect=1.0, origin='lower', vmin=0, vmax=300)\n",
    "plt.colorbar(im3, ax=sp3, label='mom2 [km/s]')\n",
    "for sp in sp1, sp2, sp3:\n",
    "    sp.set_xlabel('x [px = arcsec/10]')\n",
    "    sp.set_ylabel('y [px = arcsec/10]')\n",
    "plt.subplots_adjust(wspace=.3)"
   ]
  },
  {
   "cell_type": "markdown",
   "metadata": {},
   "source": [
    "Though it is clearly rotating, the disc of this particular galaxy seems somewhat disturbed, with a possible tail or hole on the right edge, and a central hole. The velocity dispersion is also surprisingly high (beam smearing will contribute to this somewhat, but is insufficient to fully explain it).\n",
    "\n",
    "For complete documentation, more usage examples, and further information, please take a look at the [MARTINI webpage](https://kyleaoman.github.io/martini)."
   ]
  }
 ],
 "metadata": {
  "kernelspec": {
   "display_name": "Python 3",
   "language": "python",
   "name": "python3"
  },
  "language_info": {
   "codemirror_mode": {
    "name": "ipython",
    "version": 3
   },
   "file_extension": ".py",
   "mimetype": "text/x-python",
   "name": "python",
   "nbconvert_exporter": "python",
   "pygments_lexer": "ipython3",
   "version": "3.7.6"
  }
 },
 "nbformat": 4,
 "nbformat_minor": 2
}
