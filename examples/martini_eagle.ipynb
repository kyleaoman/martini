{
 "cells": [
  {
   "cell_type": "markdown",
   "metadata": {},
   "source": [
    "In this short tutorial we will install and use [MARTINI](https://kyleaoman.github.io/martini/build/html/includeme.html), an analysis package for creating mock HI-data cubes similar to radio interferometer data, written by Kyle Oman (kyle.a.oman@durham.ac.uk). This example uses the publicly available [EAGLE simulation data](http://icc.dur.ac.uk/Eagle/database.php)."
   ]
  },
  {
   "cell_type": "markdown",
   "metadata": {},
   "source": [
    "![MARTINI](http://kyleaoman.github.io/martini/build/html/_images/martini_banner.png)"
   ]
  },
  {
   "cell_type": "markdown",
   "metadata": {},
   "source": [
    "MARTINI is a modular package for the creation of synthetic resolved HI line observations (data cubes) of smoothed-particle hydrodynamics simulations of galaxies. The various aspects of the mock-observing process are divided logically into sub-modules handling the data cube, source, beam, noise, spectral model and SPH kernel. MARTINI is object-oriented: each sub-module provides a class (or classes) which can be configured as desired. For most sub-modules, base classes are provided to allow for straightforward customization. Instances of each sub-module class are then given as parameters to the Martini class. A mock observation is then constructed by calling a handful of functions to execute the desired steps in the mock-observing process."
   ]
  },
  {
   "cell_type": "markdown",
   "metadata": {},
   "source": [
    "## Installation"
   ]
  },
  {
   "cell_type": "markdown",
   "metadata": {},
   "source": [
    "Note that martini requires `python3`. In addition, due to the way the `setup.py` for the `read_eagle` module is written (which I have not yet had time to request a fix for), you must have numpy installed before beginning.\n",
    "\n",
    "We will use `git` and `pip` to download and install [MARTINI from github](https://github.com/kyleaoman/martini). To do so:\n",
    "\n",
    "1. open a terminal and navigate to a directory where the source code will be stored\n",
    "2. type the following commands:\n",
    "\n",
    "```\n",
    "git clone https://github.com/kyleaoman/martini\n",
    "python3 -m pip install --user -e martini/[eaglesource,hdf5_output]\n",
    "```\n",
    "\n",
    "If you have superuser permissions or use a virtual environment, you may wish to remove the --user flag. If you do not want support for `.hdf5` format output, you may remove `,hdf5_output` (output in `.fits` format is supported by default). With these commands required dependencies will be fetched and installed automatically. Check for error messages during installation. For greater control you may also install the dependencies by hand. These are: numpy >= 1.15.3, astropy >= 3.0, scipy, [Hdecompose](https://github.com/kyleaoman/Hdecompose), [eagleSqlTools](https://github.com/kyleaoman/eagleSqlTools), [pyread_eagle](https://github.com/kyleaoman/pyread_eagle) and, optionally, h5py.\n",
    "\n",
    "You may check for basic functionality of martini by running:"
   ]
  },
  {
   "cell_type": "code",
   "execution_count": null,
   "metadata": {},
   "outputs": [],
   "source": [
    "from martini import demo\n",
    "demo()"
   ]
  },
  {
   "cell_type": "markdown",
   "metadata": {},
   "source": [
    "If this produces errors, you may need to restart the Python kernel of this notebook so that it sees the recently installed packages (Kernel -> Restart in the menubar).\n",
    "\n",
    "When run successfully, this will make a mock observation of a very simple analytic disc model and write some output to the working directory. Note that this will not test the EAGLE-specific modules, e.g. this should still succeed if there was an error installing the read_eagle module."
   ]
  },
  {
   "cell_type": "markdown",
   "metadata": {},
   "source": [
    "## EAGLE Data"
   ]
  },
  {
   "cell_type": "markdown",
   "metadata": {},
   "source": [
    "This example uses publicly available data from the EAGLE simulations. Consult the [EAGLE data pages](http://icc.dur.ac.uk/Eagle/database.php) for instructions to register for an account and access data files. Once you are granted access, follow the instructions to download the *particle data* for run 'RefL0012N0188', snapshot 028. If your data arrives as a tarball, unpack it."
   ]
  },
  {
   "cell_type": "markdown",
   "metadata": {},
   "source": [
    "## EAGLE Example"
   ]
  },
  {
   "cell_type": "markdown",
   "metadata": {},
   "source": [
    "First, import some modules from Martini, and the units module from astropy."
   ]
  },
  {
   "cell_type": "code",
   "execution_count": null,
   "metadata": {},
   "outputs": [],
   "source": [
    "from martini.sources import EAGLESource\n",
    "from martini import DataCube, Martini\n",
    "from martini.beams import GaussianBeam\n",
    "from martini.noise import GaussianNoise\n",
    "from martini.spectral_models import GaussianSpectrum\n",
    "from martini.sph_kernels import AdaptiveKernel, WendlandC2Kernel, GaussianKernel, DiracDeltaKernel\n",
    "import astropy.units as U"
   ]
  },
  {
   "cell_type": "markdown",
   "metadata": {},
   "source": [
    "The different martini sub-modules need to be initialized, reading [this overview](https://kyleaoman.github.io/martini/build/html/martini.html) is recommended before continuing this example. \n",
    "\n",
    "See the [full documentation](https://kyleaoman.github.io/martini/build/html/) for the individual sub-modules for details of all configuration options. A few suggested best-practices specific to EAGLE are outlined below."
   ]
  },
  {
   "cell_type": "markdown",
   "metadata": {},
   "source": [
    "### SOURCE\n",
    "Edit the call to `EAGLESource` below to point to the data you have\n",
    "downloaded. The `snapPath` argument should give the directory\n",
    "containing the snapshot files, and the `snapBase` argument should\n",
    "give the name of the snapshot files, omitting the '.X.hdf5'\n",
    "portion.\n",
    "\n",
    "The `fof` and `sub` arguments specify the friends-of-friends and\n",
    "subhalo identifiers of the object to use as a source. For users of\n",
    "the [EAGLE SQL database](http://icc.dur.ac.uk/Eagle/database.php),\n",
    "these correspond to the columns 'GroupNumber' and 'SubGroupNumber',\n",
    "respectively. It is often practical to use the database to search\n",
    "for interesting objects and note their IDs to provide them to\n",
    "Martini. A very simple query for central galaxies with a maximum\n",
    "circular velocity between 150 and 250 km/s and a star formation\n",
    "rate > 0.5 Msun/yr is provided below. These cuts make the presence\n",
    "of a disc of cold gas likely, so we will use this sample for\n",
    "this example."
   ]
  },
  {
   "cell_type": "code",
   "execution_count": null,
   "metadata": {},
   "outputs": [],
   "source": [
    "\"\"\"\n",
    "SELECT         \n",
    " GroupNumber as fof,   \n",
    " SubGroupNumber as sub          \n",
    "FROM  \n",
    " RefL0012N0188_SubHalo  \n",
    "WHERE   \n",
    " SnapNum = 28 \n",
    " AND SubGroupNumber = 0 \n",
    " AND Vmax > 150 \n",
    " AND Vmax < 250 \n",
    " AND StarFormationRate > .5\n",
    "\"\"\";"
   ]
  },
  {
   "cell_type": "markdown",
   "metadata": {},
   "source": [
    "This returns four target candidates with IDs: (3, 0), (4, 0), (5, 0), (6, 0). I've selected target (4, 0) for the rest of this example as the most 'photogenic'.\n",
    "\n",
    "The EAGLESource module retrieves some properties of the target\n",
    "source from the database - it therefore requires login credentials.\n",
    "Provide your username and password in the arguments `db_user` and\n",
    "`db_key`. You may also omit your password, you will then be\n",
    "prompted to enter it interactively. These credentials are the same\n",
    "as those you used when downloading the particle data.\n",
    "\n",
    "The argument `subBoxSize` controls the half-side length of a region\n",
    "to load around the object of interest, in physical (not comoving,\n",
    "no little h) units. Using larger values will include more \n",
    "foreground/background, which may be desirable, but will also slow \n",
    "down execution and can impair the automatic routine used to find a \n",
    "disc plane. Normally it is advisable to set this to approximately\n",
    "the virial radius of the source object, or just large enough to\n",
    "capture the region of interest around it (e.g. enough to encompass\n",
    "the host of a satellite galaxy).\n",
    "\n",
    "The rotation configuration takes an inclination (here 60deg) and\n",
    "rotation about the pole (here 90deg). The code attempts to\n",
    "automatically align the galactic disk in the y-z plane by aligning\n",
    "the angular momentum along the x-axis. The polar rotation is then\n",
    "applied, and finally the disc inclined by a rotation around the\n",
    "y-axis (the line of sight is along the x-axis). The automatic\n",
    "alignment will work for typical reasonably isolated discs, but will\n",
    "struggle when companions are present, when the angular momentum axis\n",
    "is a poor tracer of the disc plane, and especially for satellites. If\n",
    "finer control of the orientation is needed, derive the transformation\n",
    "from the simulation box coordinates to the desired coordinates for\n",
    "the 'observation', keeping in mind that the line of sight is along\n",
    "the x-axis. This rotation matrix can then be passed to rotation as\n",
    "{'rotmat': np.eye(3)} (here the identity rotation matrix used as an\n",
    "example). A common problem in this case is deriving the inverse\n",
    "transform instead of the forward transform, if unexpected results are\n",
    "obtained, first try passing the transpose of the rotation matrix."
   ]
  },
  {
   "cell_type": "code",
   "execution_count": null,
   "metadata": {},
   "outputs": [],
   "source": [
    "source = EAGLESource(\n",
    "    snapPath='/Users/koman/EAGLE/RefL0012N0188/snapshot_028_z000p000/',\n",
    "    snapBase='snap_028_z000p000',\n",
    "    fof=4,\n",
    "    sub=0,\n",
    "    db_user='username-goes-here',\n",
    "    db_key='password-goes-here',\n",
    "    subBoxSize=150 * U.kpc,\n",
    "    distance=4 * U.Mpc,\n",
    "    vpeculiar=0 * U.km / U.s,\n",
    "    rotation={'L_coords': (60 * U.deg, 90. * U.deg)},\n",
    "    ra=0. * U.deg,\n",
    "    dec=0. * U.deg\n",
    ")"
   ]
  },
  {
   "cell_type": "markdown",
   "metadata": {},
   "source": [
    "### DATACUBE\n",
    "It is usually advisable to set the centre of the cube to track the\n",
    "centre of the source, as illustrated below. Note that the source\n",
    "systemic velocity is set according to the distance, peculiar velocity, and Hubble's law.\n",
    "These values can instead be set explicitly, if desired. A datacube\n",
    "with 128x128 pixels usually takes a few minutes, depending on the number of particles. 1024x1024 can easily take\n",
    "several hours. The number of channels has less influence on the\n",
    "runtime. Most of the runtime is spent when `M.insert_source_in_cube` is\n",
    "called below."
   ]
  },
  {
   "cell_type": "code",
   "execution_count": null,
   "metadata": {},
   "outputs": [],
   "source": [
    "datacube = DataCube(\n",
    "    n_px_x=384,\n",
    "    n_px_y=384,\n",
    "    n_channels=50,\n",
    "    px_size=10. * U.arcsec,\n",
    "    channel_width=16. * U.km * U.s ** -1,\n",
    "    velocity_centre=source.vsys,\n",
    "    ra=source.ra,\n",
    "    dec=source.dec\n",
    ")"
   ]
  },
  {
   "cell_type": "markdown",
   "metadata": {},
   "source": [
    "### BEAM\n",
    "It is usually advisable to set the beam size to be ~3x the pixel\n",
    "size. Note that the data cube is padded according to the size of the\n",
    "beam, this usually results in the number of pixel rows printed in the\n",
    "progress messages to differ from the requested dimensions. The\n",
    "padding is required for accurate convolution with the beam, but\n",
    "contains incorrect values after convolution and is discarded to\n",
    "produce the final data cube of the requested size."
   ]
  },
  {
   "cell_type": "code",
   "execution_count": null,
   "metadata": {},
   "outputs": [],
   "source": [
    "beam = GaussianBeam(\n",
    "    bmaj=30. * U.arcsec,\n",
    "    bmin=30. * U.arcsec,\n",
    "    bpa=0. * U.deg,\n",
    "    truncate=3.\n",
    ")"
   ]
  },
  {
   "cell_type": "markdown",
   "metadata": {},
   "source": [
    "### NOISE\n",
    "The noise is normally added before convolution with the beam (as\n",
    "below in this example). The rms value passed is for the noise before\n",
    "convolution, the rms noise in the output data cube will therefore\n",
    "typically differ from this value."
   ]
  },
  {
   "cell_type": "code",
   "execution_count": null,
   "metadata": {},
   "outputs": [],
   "source": [
    "noise = GaussianNoise(\n",
    "    rms=2.E-4 * U.Jy * U.arcsec ** -2\n",
    ")"
   ]
  },
  {
   "cell_type": "markdown",
   "metadata": {},
   "source": [
    "### SPECTRAL MODEL\n",
    "The 'subgrid' velocity dispersion can also be fixed to a constant\n",
    "value, e.g. `sigma=7 * U.km / U.s`."
   ]
  },
  {
   "cell_type": "code",
   "execution_count": null,
   "metadata": {},
   "outputs": [],
   "source": [
    "spectral_model = GaussianSpectrum(\n",
    "    sigma='thermal'\n",
    ")"
   ]
  },
  {
   "cell_type": "markdown",
   "metadata": {},
   "source": [
    "### SPH KERNEL\n",
    "The EAGLE simulation uses the Wendland C2 smoothing kernel. The implementation of\n",
    "this kernel included in Martini uses an approximation\n",
    "which breaks down when the particle smoothing lengths are small\n",
    "compared to the size of the pixels (at the distance of the source).\n",
    "If you obtain an error complaining about the smoothing length relative to the pixel scale,\n",
    "you may either disable this check following the instructions in the error message (which will result in some inaccuracy), or try a different kernel - the same FWHM will be used automatically - which may be more tolerant (which results in a different sort of inaccuracy). In situations where most smoothing lengths are compatible with the desired kernel, using the AdaptiveKernel module may be desirable: this accepts a list of kernels in order of decreasing priority and uses the first which is sufficiently accurate on a per-particle basis. This is illustrated in the example below.\n",
    "\n",
    "If you choose to disable the check on the kernel integration accuracy, note that this can result in significant missing or extra mass. A suggested check would be to make a mock observation at a resolution where no error is produced and compare the integrated HI mass with the mock observation at the desired resolution. If these differ substantially, do not proceed with science! If they do not differ substantially, it *might* be ok to proceed, with caution."
   ]
  },
  {
   "cell_type": "code",
   "execution_count": null,
   "metadata": {},
   "outputs": [],
   "source": [
    "sph_kernel = AdaptiveKernel(\n",
    "    (\n",
    "        WendlandC2Kernel(),\n",
    "        GaussianKernel(truncate=6)\n",
    "    )\n",
    ")"
   ]
  },
  {
   "cell_type": "markdown",
   "metadata": {},
   "source": [
    "Now set up the configuration, and do the actual run:"
   ]
  },
  {
   "cell_type": "code",
   "execution_count": null,
   "metadata": {},
   "outputs": [],
   "source": [
    "M = Martini(\n",
    "    source=source,\n",
    "    datacube=datacube,\n",
    "    beam=beam,\n",
    "    noise=noise,\n",
    "    spectral_model=spectral_model,\n",
    "    sph_kernel=sph_kernel\n",
    ")"
   ]
  },
  {
   "cell_type": "markdown",
   "metadata": {},
   "source": [
    "### Run the calculation"
   ]
  },
  {
   "cell_type": "markdown",
   "metadata": {},
   "source": [
    "Progress messages will be printed every `printfreq` rows; suppress by setting to `None`."
   ]
  },
  {
   "cell_type": "code",
   "execution_count": null,
   "metadata": {},
   "outputs": [],
   "source": [
    "M.insert_source_in_cube(printfreq=50)\n",
    "M.add_noise()\n",
    "M.convolve_beam()"
   ]
  },
  {
   "cell_type": "markdown",
   "metadata": {},
   "source": [
    "You may notice that the number of pixels in the progress counter differs from the number defined in the DataCube module. This is because convolution with the beam requires some padding, which is ultimately filled with nonsense and discarded.\n",
    "\n",
    "To write the results: two output formats are available, depending on preference. Both\n",
    "formats are self-documenting, via FITS header keywords and HDF5\n",
    "attributes, respectively. For HDF5 output, the beam image is included\n",
    "in the same file. (If you do not have hdf5, comment out the call to `write_hdf5`.)"
   ]
  },
  {
   "cell_type": "code",
   "execution_count": null,
   "metadata": {},
   "outputs": [],
   "source": [
    "M.write_fits('eagle_martini_demo.fits', channels='velocity')\n",
    "M.write_beam_fits('eagle_martini_demo_beam.fits', channels='velocity')\n",
    "M.write_hdf5('eagle_martini_demo.hdf5', channels='velocity')"
   ]
  },
  {
   "cell_type": "markdown",
   "metadata": {},
   "source": [
    "### Inspect the results"
   ]
  },
  {
   "cell_type": "markdown",
   "metadata": {},
   "source": [
    "Let's load the HDF5 that MARTINI produced and take a quick look."
   ]
  },
  {
   "cell_type": "code",
   "execution_count": null,
   "metadata": {},
   "outputs": [],
   "source": [
    "import numpy as np\n",
    "from astropy.io import fits\n",
    "from astropy.wcs import WCS\n",
    "with fits.open('eagle_martini_demo.fits') as f:\n",
    "    FluxCube = f[0].data\n",
    "    Nchannels = FluxCube.shape[1]\n",
    "    vch = np.array(WCS(f[0].header).sub(axes=[3]).all_pix2world(np.arange(Nchannels),0))[0]\n",
    "    vch = (vch * U.m / U.s - source.vsys).to(U.km / U.s).value"
   ]
  },
  {
   "cell_type": "code",
   "execution_count": null,
   "metadata": {},
   "outputs": [],
   "source": [
    "FluxCube.shape\n",
    "FluxCube = FluxCube[0]  # strip the Stokes' axis\n",
    "FluxCube.shape"
   ]
  },
  {
   "cell_type": "markdown",
   "metadata": {},
   "source": [
    "Let's examine one of the velocity channels:"
   ]
  },
  {
   "cell_type": "code",
   "execution_count": null,
   "metadata": {},
   "outputs": [],
   "source": [
    "import matplotlib.pyplot as plt"
   ]
  },
  {
   "cell_type": "code",
   "execution_count": null,
   "metadata": {},
   "outputs": [],
   "source": [
    "fig = plt.figure(figsize=(5,5))\n",
    "ax = fig.add_subplot(1, 1, 1)\n",
    "\n",
    "plt.imshow(FluxCube[27,:,:], cmap='Greys', aspect=1.0, origin='lower')\n",
    "ax.autoscale(False)\n",
    "ax.set_xlabel('x [px = arcsec/{:.0f}]'.format(datacube.px_size.to(U.arcsec).value))\n",
    "ax.set_ylabel('y [px = arcsec/{:.0f}]'.format(datacube.px_size.to(U.arcsec).value))\n",
    "plt.colorbar(label='Flux [Jy/beam]');"
   ]
  },
  {
   "cell_type": "markdown",
   "metadata": {},
   "source": [
    "And do a quick plot of the first three moments:"
   ]
  },
  {
   "cell_type": "code",
   "execution_count": null,
   "metadata": {},
   "outputs": [],
   "source": [
    "import numpy as np\n",
    "rms = np.std(FluxCube[:, :20, :20])  # noise in a corner patch where there is little signal\n",
    "clip = np.where(FluxCube > 5 * rms, 1, 0)\n",
    "np.seterr(all='ignore')\n",
    "fig = plt.figure(figsize=(16, 5))\n",
    "sp1 = fig.add_subplot(1,3,1)\n",
    "sp2 = fig.add_subplot(1,3,2)\n",
    "sp3 = fig.add_subplot(1,3,3)\n",
    "mom0 = np.sum(FluxCube, axis=0)\n",
    "mask = np.where(mom0 > 100, 1, np.nan)\n",
    "mom1 = np.sum(FluxCube * clip * vch[:, np.newaxis, np.newaxis], axis=0) / mom0\n",
    "mom2 = np.sqrt(np.sum(FluxCube * clip * np.power(vch[:, np.newaxis, np.newaxis] - mom1[np.newaxis], 2), axis=0) / mom0)\n",
    "im1 = sp1.imshow(mom0, cmap='Greys', aspect=1.0, origin='lower')\n",
    "plt.colorbar(im1, ax=sp1, label='mom0 [Jy/beam]')\n",
    "im2 = sp2.imshow((mom1*mask), cmap='RdBu', aspect=1.0, origin='lower', vmin=-250, vmax=250)\n",
    "plt.colorbar(im2, ax=sp2, label='mom1 [km/s]')\n",
    "im3 = sp3.imshow((mom2*mask), cmap='magma', aspect=1.0, origin='lower', vmin=0, vmax=50)\n",
    "plt.colorbar(im3, ax=sp3, label='mom2 [km/s]')\n",
    "for sp in sp1, sp2, sp3:\n",
    "    sp.set_xlabel('x [px = arcsec/{:.0f}]'.format(datacube.px_size.to(U.arcsec).value))\n",
    "    sp.set_ylabel('y [px = arcsec/{:.0f}]'.format(datacube.px_size.to(U.arcsec).value))\n",
    "plt.subplots_adjust(wspace=.3)"
   ]
  },
  {
   "cell_type": "markdown",
   "metadata": {},
   "source": [
    "This galaxy clearly has a ring morphology in HI, and a nice rotation dominated velocity field. The alignment of the disc is not quite right - it appears somewhat more than 60deg inclined, and the position angle is not horizontal in the figure - nicely illustrating that the automatic alignment feature is only intended for preliminary use. \n",
    "\n",
    "For complete documentation, more usage examples, and further information, please take a look at the [MARTINI webpage](https://kyleaoman.github.io/martini)."
   ]
  }
 ],
 "metadata": {
  "kernelspec": {
   "display_name": "Python 3",
   "language": "python",
   "name": "python3"
  },
  "language_info": {
   "codemirror_mode": {
    "name": "ipython",
    "version": 3
   },
   "file_extension": ".py",
   "mimetype": "text/x-python",
   "name": "python",
   "nbconvert_exporter": "python",
   "pygments_lexer": "ipython3",
   "version": "3.7.6"
  }
 },
 "nbformat": 4,
 "nbformat_minor": 4
}
