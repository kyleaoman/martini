{
 "cells": [
  {
   "cell_type": "markdown",
   "metadata": {},
   "source": [
    "In this short tutorial we will install and use [MARTINI](https://martini.readthedocs.io/en/latest/), an analysis package for creating mock HI-data cubes similar to radio interferometer data, written by Kyle Oman (kyle.a.oman@durham.ac.uk). This example uses the input from the [EAGLE](https://ui.adsabs.harvard.edu/abs/2015MNRAS.446..521S/abstract) simulations. The data are publicly available and hosted at [icc.dur.ac.uk/Eagle](http://icc.dur.ac.uk/Eagle)."
   ]
  },
  {
   "cell_type": "markdown",
   "metadata": {},
   "source": [
    "![MARTINI](https://github.com/kyleaoman/martini/raw/main/martini_banner.png)"
   ]
  },
  {
   "cell_type": "markdown",
   "metadata": {},
   "source": [
    "MARTINI is a modular package for the creation of synthetic resolved HI line observations (data cubes) of smoothed-particle hydrodynamics simulations of galaxies. The various aspects of the mock-observing process are divided logically into sub-modules handling the data cube, source, beam, noise, spectral model and SPH kernel. MARTINI is object-oriented: each sub-module provides a class (or classes) which can be configured as desired. For most sub-modules, base classes are provided to allow for straightforward customization. Instances of each sub-module class are given as parameters to the Martini class; a mock observation is then constructed by calling a handful of functions to execute the desired steps in the mock-observing process.\n",
    "\n",
    "The MARTINI documentation is [hosted on ReadTheDocs](https://martini.readthedocs.io/en/latest/)."
   ]
  },
  {
   "cell_type": "markdown",
   "metadata": {},
   "source": [
    "## Installation"
   ]
  },
  {
   "cell_type": "markdown",
   "metadata": {},
   "source": [
    "MARTINI requires `python3` version `3.7` or higher.\n",
    "\n",
    "The following command will use `pip` to download and install [MARTINI from pypi](https://pypi.org/project/astromartini/):"
   ]
  },
  {
   "cell_type": "code",
   "execution_count": null,
   "metadata": {},
   "outputs": [],
   "source": [
    "import sys\n",
    "\n",
    "!{sys.executable} -m pip install astromartini[eaglesource]==2.0.0"
   ]
  },
  {
   "cell_type": "markdown",
   "metadata": {},
   "source": [
    "If you have superuser permissions or use a virtual environment, you may wish to remove the --user flag. If you do not want support for `.hdf5` format output, you may remove `,hdf5_output` (output in `.fits` format is supported by default). With these commands required dependencies will be fetched and installed automatically. Watch for error messages during installation. For greater control you may also install the dependencies by hand. These are: numpy, astropy, scipy, hdecompose, eaglesqltools, pyread_eagle and h5py.\n",
    "\n",
    "We'll also install a few other packages used in this notebook:"
   ]
  },
  {
   "cell_type": "code",
   "execution_count": null,
   "metadata": {},
   "outputs": [],
   "source": [
    "!{sys.executable} -m pip install requests matplotlib"
   ]
  },
  {
   "cell_type": "markdown",
   "metadata": {},
   "source": [
    "Let's check that we can `import martini`:"
   ]
  },
  {
   "cell_type": "code",
   "execution_count": null,
   "metadata": {},
   "outputs": [],
   "source": [
    "import martini"
   ]
  },
  {
   "cell_type": "markdown",
   "metadata": {},
   "source": [
    "If this produces errors, you may need to restart the Python kernel of this notebook so that it sees the recently installed packages (Kernel -> Restart in the menubar).\n",
    "\n",
    "We can run MARTINI's built-in demo to check that all of the basic functionality works:"
   ]
  },
  {
   "cell_type": "code",
   "execution_count": null,
   "metadata": {},
   "outputs": [],
   "source": [
    "from martini import demo\n",
    "\n",
    "demo()"
   ]
  },
  {
   "cell_type": "markdown",
   "metadata": {},
   "source": [
    "When run successfully, this will make a mock observation of a very simple analytic disc model and write some output to the working directory. Rather than inspect this toy model, let's look at a \"real\" simulation..."
   ]
  },
  {
   "cell_type": "markdown",
   "metadata": {},
   "source": [
    "## EAGLE Data"
   ]
  },
  {
   "cell_type": "markdown",
   "metadata": {},
   "source": [
    "This example uses data from the EAGLE simulations. Consult the [EAGLE data pages](http://icc.dur.ac.uk/Eagle/database.php) for instructions to register for an account, which is required to complete this notebook.\n",
    "\n",
    "In place of a group catalogue, we will use the [EAGLE SQL database](http://icc.dur.ac.uk/Eagle/database.php). The same account is used for particle data access and SQL database access. Once you have an account, enter your credentials using the cell below - these will be used for the rest of this tutorial."
   ]
  },
  {
   "cell_type": "code",
   "execution_count": null,
   "metadata": {},
   "outputs": [],
   "source": [
    "from getpass import getpass\n",
    "\n",
    "username = input(\"dataweb.cosma.dur.ac.uk username:\")\n",
    "password = getpass(\"dataweb.cosma.dur.ac.uk password:\")"
   ]
  },
  {
   "cell_type": "markdown",
   "metadata": {
    "tags": []
   },
   "source": [
    "Once you have entered your credentials, the cell below can be used to download snapshot 28 ($z=0$) from the `RefL0025N0376` simulation (8 GB). The data arrive as a tarball, about twice the disk space (15 GB) may be consumed temporarily while the file is being unpacked. You can also download and unpack the data manually and skip this cell."
   ]
  },
  {
   "cell_type": "code",
   "execution_count": null,
   "metadata": {},
   "outputs": [],
   "source": [
    "import os\n",
    "import requests\n",
    "import re\n",
    "import io\n",
    "import tarfile\n",
    "from tqdm import tqdm\n",
    "\n",
    "\n",
    "def chunked_download(url, auth=None):\n",
    "    with requests.get(url, stream=True, auth=auth) as r:\n",
    "        r.raise_for_status()\n",
    "        fname = re.findall(\"filename=(.+)\", r.headers.get(\"content-disposition\"))[\n",
    "            0\n",
    "        ].strip('\"')\n",
    "        total_size_in_bytes = int(r.headers.get(\"content-length\", 0))\n",
    "        chunk_size = 8192\n",
    "        progress_bar = tqdm(total=total_size_in_bytes, unit=\"iB\", unit_scale=True)\n",
    "        with open(fname, \"wb\") as f:\n",
    "            for chunk in r.iter_content(chunk_size=chunk_size):\n",
    "                progress_bar.update(len(chunk))\n",
    "                f.write(chunk)\n",
    "    return fname\n",
    "\n",
    "\n",
    "url = \"https://dataweb.cosma.dur.ac.uk:8443/eagle-snapshots//download?run=RefL0025N0376&snapnum=28\"\n",
    "tar_fname = chunked_download(url, auth=(username, password))\n",
    "with tarfile.open(tar_fname, mode=\"r\") as tar:\n",
    "    for member in tar.getmembers():\n",
    "        if \".0.hdf5\" in member.name:\n",
    "            snappath = \"/\".join(member.name.split(\"/\")[:-1])\n",
    "            snapfile = member.name.split(\"/\")[-1].strip(\".0.hdf5\")\n",
    "    tar.extractall(\".\")\n",
    "os.remove(tar_fname)"
   ]
  },
  {
   "cell_type": "markdown",
   "metadata": {},
   "source": [
    "If you have downloaded the data manually, edit this cell to specify the file locations (omitting the `.x.hdf5` portion of the snapshot filenames):"
   ]
  },
  {
   "cell_type": "code",
   "execution_count": null,
   "metadata": {},
   "outputs": [],
   "source": [
    "snappath = \"RefL0025N0376/snapshot_028_z000p000\"\n",
    "snapfile = \"snap_028_z000p000\""
   ]
  },
  {
   "cell_type": "markdown",
   "metadata": {},
   "source": [
    "To specify a galaxy of interest, we need to know its `fof` (friends-of-friends) and `sub` (subhalo) identifiers. On the [EAGLE SQL database](http://icc.dur.ac.uk/Eagle/database.php),\n",
    "these correspond to the columns 'GroupNumber' and 'SubGroupNumber',\n",
    "respectively. We can use the database to search\n",
    "for interesting objects and note their IDs to provide them to\n",
    "MARTINI. A very simple query for central galaxies with a maximum\n",
    "circular velocity between 150 and 250 km/s and a star formation\n",
    "rate > 0.5 Msun/yr is provided below, this can be copied into the database search interface. These cuts make the presence\n",
    "of a disc of cold gas likely."
   ]
  },
  {
   "cell_type": "code",
   "execution_count": null,
   "metadata": {},
   "outputs": [],
   "source": [
    "\"\"\"\n",
    "SELECT         \n",
    " GroupNumber as fof,   \n",
    " SubGroupNumber as sub          \n",
    "FROM  \n",
    " RefL0025N0376_SubHalo  \n",
    "WHERE   \n",
    " SnapNum = 28 \n",
    " AND SubGroupNumber = 0 \n",
    " AND Vmax > 150 \n",
    " AND Vmax < 250 \n",
    " AND StarFormationRate > .5\n",
    "\"\"\";"
   ]
  },
  {
   "cell_type": "markdown",
   "metadata": {},
   "source": [
    "This returns 27 galaxies. One of these has identifiers `(39, 0)`, we will use this one for the rest of this example:"
   ]
  },
  {
   "cell_type": "code",
   "execution_count": null,
   "metadata": {},
   "outputs": [],
   "source": [
    "fof, sub = 39, 0"
   ]
  },
  {
   "cell_type": "markdown",
   "metadata": {},
   "source": [
    "## EAGLE Example"
   ]
  },
  {
   "cell_type": "markdown",
   "metadata": {},
   "source": [
    "First, import some modules from Martini, and the units module from astropy."
   ]
  },
  {
   "cell_type": "code",
   "execution_count": null,
   "metadata": {},
   "outputs": [],
   "source": [
    "from martini.sources import EAGLESource\n",
    "from martini import DataCube, Martini\n",
    "from martini.beams import GaussianBeam\n",
    "from martini.noise import GaussianNoise\n",
    "from martini.spectral_models import GaussianSpectrum\n",
    "from martini.sph_kernels import (\n",
    "    AdaptiveKernel,\n",
    "    WendlandC2Kernel,\n",
    "    GaussianKernel,\n",
    "    DiracDeltaKernel,\n",
    ")\n",
    "import astropy.units as U"
   ]
  },
  {
   "cell_type": "markdown",
   "metadata": {},
   "source": [
    "The different martini sub-modules need to be initialized, \n",
    "see the [full documentation](https://martini.readthedocs.io/en/latest/) for details of all configuration options. A few suggested best-practices specific to EAGLE are outlined below."
   ]
  },
  {
   "cell_type": "markdown",
   "metadata": {},
   "source": [
    "### SOURCE"
   ]
  },
  {
   "cell_type": "markdown",
   "metadata": {},
   "source": [
    "The argument `subBoxSize` controls the half-side length of a region\n",
    "to load around the object of interest, in physical (not comoving,\n",
    "no little h) units. Using larger values will include more \n",
    "foreground/background, which may be desirable, but will also slow \n",
    "down execution and can impair the automatic routine used to find a \n",
    "disc plane. Normally it is advisable to set this to approximately\n",
    "the virial radius of the source object, or just large enough to\n",
    "capture the region of interest around it (e.g. enough to encompass\n",
    "the host of a satellite galaxy).\n",
    "\n",
    "The rotation configuration takes an inclination (here 60deg) and\n",
    "rotation about the pole (here 90deg, relative to an arbitrary reference direction). The code attempts to\n",
    "automatically align the galactic disk in the y-z plane by aligning\n",
    "the angular momentum along the x-axis. The polar rotation is then\n",
    "applied, and finally the disc inclined by a rotation around the\n",
    "y-axis (the line of sight is along the x-axis). The automatic\n",
    "alignment will work for typical reasonably isolated discs, but will\n",
    "struggle when companions are present, when the angular momentum axis\n",
    "is a poor tracer of the disc plane, and especially for satellites. If\n",
    "finer control of the orientation is needed, derive the transformation\n",
    "from the simulation box coordinates to the desired coordinates for\n",
    "the 'observation', keeping in mind that the line of sight is along\n",
    "the x-axis. This rotation matrix can then be passed to as\n",
    "`rotation={'rotmat': np.eye(3)}` (here the identity rotation matrix used as a place holder). A common problem in this case is deriving the inverse\n",
    "transform instead of the forward transform, if unexpected results are\n",
    "obtained, first try passing the transpose of the rotation matrix."
   ]
  },
  {
   "cell_type": "code",
   "execution_count": null,
   "metadata": {},
   "outputs": [],
   "source": [
    "source = EAGLESource(\n",
    "    snapPath=snappath,\n",
    "    snapBase=snapfile,\n",
    "    fof=fof,\n",
    "    sub=sub,\n",
    "    db_user=username,\n",
    "    db_key=password,\n",
    "    subBoxSize=150 * U.kpc,\n",
    "    distance=4 * U.Mpc,\n",
    "    vpeculiar=0 * U.km / U.s,\n",
    "    rotation={\"L_coords\": (60 * U.deg, 90.0 * U.deg)},\n",
    "    ra=0.0 * U.deg,\n",
    "    dec=0.0 * U.deg,\n",
    ")"
   ]
  },
  {
   "cell_type": "markdown",
   "metadata": {},
   "source": [
    "If you have not entered your username and password in an earlier cell, you can edit the `db_user` and `db_key` arguments to provide them. The `db_key` (password) argument can also be omitted, in which case you'll be prompted to enter it interactively."
   ]
  },
  {
   "cell_type": "markdown",
   "metadata": {
    "tags": []
   },
   "source": [
    "### DATACUBE"
   ]
  },
  {
   "cell_type": "markdown",
   "metadata": {},
   "source": [
    "It is usually advisable to set the centre of the cube to track the\n",
    "centre of the source, as illustrated below. Note that the source\n",
    "systemic velocity is set according to the distance, peculiar velocity, and Hubble's law.\n",
    "These values can instead be set explicitly, if desired. A datacube\n",
    "with 128x128 pixels usually takes a few minutes, depending on the number of particles. 1024x1024 can easily take\n",
    "several hours. The number of channels has less influence on the\n",
    "runtime. Most of the runtime is spent when `M.insert_source_in_cube` is\n",
    "called below."
   ]
  },
  {
   "cell_type": "code",
   "execution_count": null,
   "metadata": {},
   "outputs": [],
   "source": [
    "datacube = DataCube(\n",
    "    n_px_x=384,\n",
    "    n_px_y=384,\n",
    "    n_channels=50,\n",
    "    px_size=10.0 * U.arcsec,\n",
    "    channel_width=16.0 * U.km * U.s**-1,\n",
    "    velocity_centre=source.vsys,\n",
    "    ra=source.ra,\n",
    "    dec=source.dec,\n",
    ")"
   ]
  },
  {
   "cell_type": "markdown",
   "metadata": {},
   "source": [
    "### BEAM"
   ]
  },
  {
   "cell_type": "markdown",
   "metadata": {},
   "source": [
    "It is usually advisable to set the beam size to be ~3x the pixel\n",
    "size. Note that the data cube is padded according to the size of the\n",
    "beam, this usually results in the number of pixel rows printed in the\n",
    "progress messages to differ from the requested dimensions. The\n",
    "padding is required for accurate convolution with the beam, but\n",
    "contains incorrect values after convolution and is discarded to\n",
    "produce the final data cube of the requested size."
   ]
  },
  {
   "cell_type": "code",
   "execution_count": null,
   "metadata": {},
   "outputs": [],
   "source": [
    "beam = GaussianBeam(\n",
    "    bmaj=30.0 * U.arcsec, bmin=30.0 * U.arcsec, bpa=0.0 * U.deg, truncate=3.0\n",
    ")"
   ]
  },
  {
   "cell_type": "markdown",
   "metadata": {
    "tags": []
   },
   "source": [
    "### NOISE"
   ]
  },
  {
   "cell_type": "markdown",
   "metadata": {},
   "source": [
    "The noise is normally added before convolution with the beam (as\n",
    "below in this example). The rms value passed is for the noise before\n",
    "convolution, the rms noise in the output data cube will therefore\n",
    "typically differ from this value. To obtain consistent random realisations each time the code is run, we provide a random seed (integer)."
   ]
  },
  {
   "cell_type": "code",
   "execution_count": null,
   "metadata": {},
   "outputs": [],
   "source": [
    "noise = GaussianNoise(\n",
    "    rms=1.0e-7 * U.Jy * U.arcsec**-2,\n",
    "    seed=0,\n",
    ")"
   ]
  },
  {
   "cell_type": "markdown",
   "metadata": {},
   "source": [
    "### SPECTRAL MODEL"
   ]
  },
  {
   "cell_type": "markdown",
   "metadata": {},
   "source": [
    "The `thermal` mode estimates the HI line width for each particle based on its properties (temperature, etc.). The 'subgrid' velocity dispersion can also be fixed to a constant value, e.g. `sigma=7 * U.km / U.s`."
   ]
  },
  {
   "cell_type": "code",
   "execution_count": null,
   "metadata": {},
   "outputs": [],
   "source": [
    "spectral_model = GaussianSpectrum(sigma=\"thermal\")"
   ]
  },
  {
   "cell_type": "markdown",
   "metadata": {},
   "source": [
    "### SPH KERNEL"
   ]
  },
  {
   "cell_type": "markdown",
   "metadata": {},
   "source": [
    "The EAGLE simulations use a Wendland C2 smoothing kernel, so we should prefer to use MARTINI's `WendlandC2Kernel` module when possible. However, this module's implementation uses an approximation which breaks down when the particle smoothing lengths are small compared to the size of the pixels (at the distance of the source). If this approximation is not accurate enough, MARTINI will report an error. In this case it might be appropriate to choose another SPH kernel module. Some rules of thumb for making this choice:\n",
    " - For very low resolution observations (distant source and few pixels), use the `DiracDeltaKernel`.\n",
    " - For high resolution observations (nearby source and many pixels), preferably use the kernel matching that used to run the simulation (`WendlandC2Kernel` in this case).\n",
    " - The `GaussianKernel` with `truncate=6` will always pass MARTINI's accuracy checks, but is significantly slower because of its large extent and so should not be used as a first choice.\n",
    " - For intermediate resolution observations (when the kernel size is similar to the pixel size), it may be difficult to find a kernel which does not raise an error. In this case, you may consider using the AdaptiveKernel. This module accepts a list of other kernels in order of decreasing priority. The first which is sufficiently accurate is used on a per-particle basis. This usage is illustrated in the example below - first the `WendlandC2Kernel` is tried, then particles for which this is not accurate enough use the `GaussianKernel` instead."
   ]
  },
  {
   "cell_type": "code",
   "execution_count": null,
   "metadata": {},
   "outputs": [],
   "source": [
    "sph_kernel = AdaptiveKernel((WendlandC2Kernel(), GaussianKernel(truncate=6)))"
   ]
  },
  {
   "cell_type": "markdown",
   "metadata": {},
   "source": [
    "### MARTINI"
   ]
  },
  {
   "cell_type": "markdown",
   "metadata": {},
   "source": [
    "Now set up the configuration, and do the actual run:"
   ]
  },
  {
   "cell_type": "code",
   "execution_count": null,
   "metadata": {},
   "outputs": [],
   "source": [
    "M = Martini(\n",
    "    source=source,\n",
    "    datacube=datacube,\n",
    "    beam=beam,\n",
    "    noise=noise,\n",
    "    spectral_model=spectral_model,\n",
    "    sph_kernel=sph_kernel,\n",
    ")\n",
    "M.insert_source_in_cube()\n",
    "M.add_noise()\n",
    "M.convolve_beam()"
   ]
  },
  {
   "cell_type": "markdown",
   "metadata": {},
   "source": [
    "You may notice that the number of pixels in the progress counter differs from the number defined in the DataCube module. This is because convolution with the beam requires some padding, which is ultimately filled with nonsense and discarded.\n",
    "\n",
    "To write the results: two output formats are available, depending on preference. Both\n",
    "formats are self-documenting, via FITS header keywords and HDF5\n",
    "attributes, respectively. For HDF5 output, the beam image is included\n",
    "in the same file. (If you do not have h5py installed, comment out the call to `write_hdf5`.)"
   ]
  },
  {
   "cell_type": "code",
   "execution_count": null,
   "metadata": {},
   "outputs": [],
   "source": [
    "M.write_fits(\"eagle_martini_demo.fits\", channels=\"velocity\")\n",
    "M.write_beam_fits(\"eagle_martini_demo_beam.fits\", channels=\"velocity\")\n",
    "M.write_hdf5(\"eagle_martini_demo.hdf5\", channels=\"velocity\")"
   ]
  },
  {
   "cell_type": "markdown",
   "metadata": {},
   "source": [
    "### Inspect the results"
   ]
  },
  {
   "cell_type": "markdown",
   "metadata": {},
   "source": [
    "Let's load the HDF5 that MARTINI produced and take a quick look."
   ]
  },
  {
   "cell_type": "code",
   "execution_count": null,
   "metadata": {},
   "outputs": [],
   "source": [
    "import numpy as np\n",
    "from astropy.io import fits\n",
    "from astropy.wcs import WCS\n",
    "\n",
    "with fits.open(\"eagle_martini_demo.fits\") as f:\n",
    "    FluxCube = f[0].data\n",
    "    Nchannels = FluxCube.shape[1]\n",
    "    vch = np.array(\n",
    "        WCS(f[0].header).sub(axes=[3]).all_pix2world(np.arange(Nchannels), 0)\n",
    "    )[0]\n",
    "    vch = (vch * U.m / U.s - source.vsys).to(U.km / U.s).value"
   ]
  },
  {
   "cell_type": "code",
   "execution_count": null,
   "metadata": {},
   "outputs": [],
   "source": [
    "FluxCube.shape\n",
    "FluxCube = FluxCube[0]  # strip the Stokes' axis\n",
    "FluxCube.shape"
   ]
  },
  {
   "cell_type": "markdown",
   "metadata": {},
   "source": [
    "Let's examine one of the velocity channels:"
   ]
  },
  {
   "cell_type": "code",
   "execution_count": null,
   "metadata": {},
   "outputs": [],
   "source": [
    "import matplotlib.pyplot as plt"
   ]
  },
  {
   "cell_type": "code",
   "execution_count": null,
   "metadata": {},
   "outputs": [],
   "source": [
    "fig = plt.figure(figsize=(5, 5))\n",
    "ax = fig.add_subplot(1, 1, 1)\n",
    "\n",
    "plt.imshow(FluxCube[27, :, :], cmap=\"Greys\", aspect=1.0, origin=\"lower\")\n",
    "ax.autoscale(False)\n",
    "ax.set_xlabel(\"x [px = arcsec/{:.0f}]\".format(datacube.px_size.to(U.arcsec).value))\n",
    "ax.set_ylabel(\"y [px = arcsec/{:.0f}]\".format(datacube.px_size.to(U.arcsec).value))\n",
    "plt.colorbar(label=\"Flux [Jy/beam]\");"
   ]
  },
  {
   "cell_type": "markdown",
   "metadata": {},
   "source": [
    "And do a quick plot of the first three moments:"
   ]
  },
  {
   "cell_type": "code",
   "execution_count": null,
   "metadata": {},
   "outputs": [],
   "source": [
    "import numpy as np\n",
    "\n",
    "rms = np.std(\n",
    "    FluxCube[:, :20, :20]\n",
    ")  # noise in a corner patch where there is little signal\n",
    "clip = np.where(FluxCube > 5 * rms, 1, 0)\n",
    "np.seterr(all=\"ignore\")\n",
    "fig = plt.figure(figsize=(16, 5))\n",
    "sp1 = fig.add_subplot(1, 3, 1)\n",
    "sp2 = fig.add_subplot(1, 3, 2)\n",
    "sp3 = fig.add_subplot(1, 3, 3)\n",
    "mom0 = np.sum(FluxCube, axis=0)\n",
    "mask = np.where(mom0 > 20, 1, np.nan)\n",
    "mom1 = np.sum(FluxCube * clip * vch[:, np.newaxis, np.newaxis], axis=0) / mom0\n",
    "mom2 = np.sqrt(\n",
    "    np.sum(\n",
    "        FluxCube\n",
    "        * clip\n",
    "        * np.power(vch[:, np.newaxis, np.newaxis] - mom1[np.newaxis], 2),\n",
    "        axis=0,\n",
    "    )\n",
    "    / mom0\n",
    ")\n",
    "im1 = sp1.imshow(mom0, cmap=\"Greys\", aspect=1.0, origin=\"lower\")\n",
    "plt.colorbar(im1, ax=sp1, label=\"mom0 [Jy/beam]\")\n",
    "im2 = sp2.imshow(\n",
    "    (mom1 * mask), cmap=\"RdBu\", aspect=1.0, origin=\"lower\", vmin=-250, vmax=250\n",
    ")\n",
    "plt.colorbar(im2, ax=sp2, label=\"mom1 [km/s]\")\n",
    "im3 = sp3.imshow(\n",
    "    (mom2 * mask), cmap=\"magma\", aspect=1.0, origin=\"lower\", vmin=0, vmax=50\n",
    ")\n",
    "plt.colorbar(im3, ax=sp3, label=\"mom2 [km/s]\")\n",
    "for sp in sp1, sp2, sp3:\n",
    "    sp.set_xlabel(\"x [px = arcsec/{:.0f}]\".format(datacube.px_size.to(U.arcsec).value))\n",
    "    sp.set_ylabel(\"y [px = arcsec/{:.0f}]\".format(datacube.px_size.to(U.arcsec).value))\n",
    "plt.subplots_adjust(wspace=0.3)"
   ]
  },
  {
   "cell_type": "markdown",
   "metadata": {},
   "source": [
    "This galaxy clearly has a ring morphology in HI, and a nice rotation-dominated velocity field. The alignment of the disc looks as expected - the inclination looks to be about 60 degrees, and the position angle is horizontal in the figure - in this case the automated orientation function has performed well, though it should never be assumed that this will always be the case!\n",
    "\n",
    "For complete documentation, more usage examples, and further information, please take a look at the [MARTINI webpage](https://martini.readthedocs.io/en/latest/)."
   ]
  }
 ],
 "metadata": {
  "kernelspec": {
   "display_name": "eagletest",
   "language": "python",
   "name": "eagletest"
  },
  "language_info": {
   "codemirror_mode": {
    "name": "ipython",
    "version": 3
   },
   "file_extension": ".py",
   "mimetype": "text/x-python",
   "name": "python",
   "nbconvert_exporter": "python",
   "pygments_lexer": "ipython3",
   "version": "3.10.1"
  }
 },
 "nbformat": 4,
 "nbformat_minor": 4
}
