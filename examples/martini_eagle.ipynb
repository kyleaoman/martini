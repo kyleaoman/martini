{
 "cells": [
  {
   "cell_type": "markdown",
   "metadata": {},
   "source": [
    "In this short tutorial we will install and use [MARTINI](https://martini.readthedocs.io/en/latest/), an analysis package for creating mock HI-data cubes similar to radio interferometer data, written by Kyle Oman (kyle.a.oman@durham.ac.uk). This example uses the input from the [EAGLE](https://ui.adsabs.harvard.edu/abs/2015MNRAS.446..521S/abstract) simulations. The data are publicly available and hosted at [icc.dur.ac.uk/Eagle](http://icc.dur.ac.uk/Eagle)."
   ]
  },
  {
   "cell_type": "markdown",
   "metadata": {},
   "source": [
    "![MARTINI](https://github.com/kyleaoman/martini/raw/main/martini_banner.png)"
   ]
  },
  {
   "cell_type": "markdown",
   "metadata": {},
   "source": [
    "MARTINI is a modular package for the creation of synthetic resolved HI line observations (data cubes) of smoothed-particle hydrodynamics simulations of galaxies. The various aspects of the mock-observing process are divided logically into sub-modules handling the data cube, source, beam, noise, spectral model and SPH kernel. MARTINI is object-oriented: each sub-module provides a class (or classes) which can be configured as desired. For most sub-modules, base classes are provided to allow for straightforward customization. Instances of each sub-module class are given as parameters to the Martini class; a mock observation is then constructed by calling a handful of functions to execute the desired steps in the mock-observing process.\n",
    "\n",
    "This tutorial focuses on particulars related to working with the EAGLE simulations. More general information is available in the MARTINI documentation, [hosted on ReadTheDocs](https://martini.readthedocs.io/en/latest/)."
   ]
  },
  {
   "cell_type": "markdown",
   "metadata": {},
   "source": [
    "## Installation"
   ]
  },
  {
   "cell_type": "markdown",
   "metadata": {},
   "source": [
    "MARTINI requires `python3` version `3.8` or higher.\n",
    "\n",
    "The following command will use `pip` to download and install [MARTINI from pypi](https://pypi.org/project/astromartini/):"
   ]
  },
  {
   "cell_type": "code",
   "execution_count": null,
   "metadata": {},
   "outputs": [],
   "source": [
    "import sys\n",
    "\n",
    "!{sys.executable} -m pip install \"astromartini[eaglesource]==2.1.3\""
   ]
  },
  {
   "cell_type": "markdown",
   "metadata": {},
   "source": [
    "If you do not have superuser permissions or use a virtual environment, you may wish to add the --user flag.\n",
    "With this command required dependencies will be fetched and installed automatically. Watch for error messages during installation. For greater control you may also install the dependencies by hand. These are: numpy, astropy, scipy, hdecompose, eaglesqltools, pyread_eagle and h5py.\n",
    "\n",
    "We'll also install a few other packages used in this notebook:"
   ]
  },
  {
   "cell_type": "code",
   "execution_count": null,
   "metadata": {},
   "outputs": [],
   "source": [
    "!{sys.executable} -m pip install requests matplotlib"
   ]
  },
  {
   "cell_type": "markdown",
   "metadata": {},
   "source": [
    "This cell may be needed in some cases to display figures below:"
   ]
  },
  {
   "cell_type": "code",
   "execution_count": null,
   "metadata": {},
   "outputs": [],
   "source": [
    "%matplotlib inline"
   ]
  },
  {
   "cell_type": "markdown",
   "metadata": {},
   "source": [
    "Let's check that we can `import martini`:"
   ]
  },
  {
   "cell_type": "code",
   "execution_count": null,
   "metadata": {},
   "outputs": [],
   "source": [
    "import martini"
   ]
  },
  {
   "cell_type": "markdown",
   "metadata": {},
   "source": [
    "If this produces errors, you may need to restart the Python kernel of this notebook so that it sees the recently installed packages (Kernel -> Restart in the menubar).\n",
    "\n",
    "We can run MARTINI's built-in demo to check that all of the basic functionality works:"
   ]
  },
  {
   "cell_type": "code",
   "execution_count": null,
   "metadata": {},
   "outputs": [],
   "source": [
    "from martini import demo\n",
    "\n",
    "demo()"
   ]
  },
  {
   "cell_type": "markdown",
   "metadata": {},
   "source": [
    "When run successfully, this will make a mock observation of a very simple analytic disc model and write some output to the working directory. Rather than inspect this toy model, let's look at a \"real\" simulation..."
   ]
  },
  {
   "cell_type": "markdown",
   "metadata": {},
   "source": [
    "## EAGLE Data"
   ]
  },
  {
   "cell_type": "markdown",
   "metadata": {},
   "source": [
    "This example uses data from the EAGLE simulations. Consult the [EAGLE data pages](http://icc.dur.ac.uk/Eagle/database.php) for instructions to register for an account, which is required to complete this notebook.\n",
    "\n",
    "In place of a group catalogue, we will use the [EAGLE SQL database](http://icc.dur.ac.uk/Eagle/database.php). The same account is used for particle data access and SQL database access. Once you have an account, enter your credentials using the cell below - these will be used for the rest of this tutorial."
   ]
  },
  {
   "cell_type": "code",
   "execution_count": null,
   "metadata": {},
   "outputs": [],
   "source": [
    "from getpass import getpass\n",
    "\n",
    "username = input(\"dataweb.cosma.dur.ac.uk username:\")\n",
    "password = getpass(\"dataweb.cosma.dur.ac.uk password:\")"
   ]
  },
  {
   "cell_type": "markdown",
   "metadata": {
    "tags": []
   },
   "source": [
    "Once you have entered your credentials, the cell below can be used to download snapshot 28 ($z=0$) from the `RefL0025N0376` simulation (8 GB). The data arrive as a tarball, about twice the disk space (15 GB) may be consumed temporarily while the file is being unpacked. You can also download and unpack the data manually and skip this cell."
   ]
  },
  {
   "cell_type": "code",
   "execution_count": null,
   "metadata": {},
   "outputs": [],
   "source": [
    "import os\n",
    "import requests\n",
    "import re\n",
    "import io\n",
    "import tarfile\n",
    "from tqdm import tqdm\n",
    "\n",
    "\n",
    "def chunked_download(url, auth=None):\n",
    "    with requests.get(url, stream=True, auth=auth) as r:\n",
    "        r.raise_for_status()\n",
    "        fname = re.findall(\"filename=(.+)\", r.headers.get(\"content-disposition\"))[\n",
    "            0\n",
    "        ].strip('\"')\n",
    "        total_size_in_bytes = int(r.headers.get(\"content-length\", 0))\n",
    "        chunk_size = 8192\n",
    "        progress_bar = tqdm(total=total_size_in_bytes, unit=\"iB\", unit_scale=True)\n",
    "        with open(fname, \"wb\") as f:\n",
    "            for chunk in r.iter_content(chunk_size=chunk_size):\n",
    "                progress_bar.update(len(chunk))\n",
    "                f.write(chunk)\n",
    "    return fname\n",
    "\n",
    "\n",
    "eaglesim = \"RefL0025N0376\"\n",
    "if os.path.isdir(eaglesim):\n",
    "    print(f\"Found snapshot directory {eaglesim} locally, skipping download & extract.\")\n",
    "else:\n",
    "    url = f\"https://dataweb.cosma.dur.ac.uk:8443/eagle-snapshots//download?run={eaglesim}&snapnum=28\"\n",
    "    tar_fname = chunked_download(url, auth=(username, password))\n",
    "    with tarfile.open(tar_fname, mode=\"r\") as tar:\n",
    "        for member in tar.getmembers():\n",
    "            if \".0.hdf5\" in member.name:\n",
    "                snappath = \"/\".join(member.name.split(\"/\")[:-1])\n",
    "                snapfile = member.name.split(\"/\")[-1].strip(\".0.hdf5\")\n",
    "        tar.extractall(\".\")\n",
    "    os.remove(tar_fname)"
   ]
  },
  {
   "cell_type": "markdown",
   "metadata": {},
   "source": [
    "If you have downloaded the data manually, edit this cell to specify the file locations (omitting the `.x.hdf5` portion of the snapshot filenames):"
   ]
  },
  {
   "cell_type": "code",
   "execution_count": null,
   "metadata": {},
   "outputs": [],
   "source": [
    "snappath = \"RefL0025N0376/snapshot_028_z000p000\"\n",
    "snapfile = \"snap_028_z000p000\""
   ]
  },
  {
   "cell_type": "markdown",
   "metadata": {},
   "source": [
    "To specify a galaxy of interest, we need to know its `fof` (friends-of-friends) and `sub` (subhalo) identifiers. On the [EAGLE SQL database](http://icc.dur.ac.uk/Eagle/database.php),\n",
    "these correspond to the columns 'GroupNumber' and 'SubGroupNumber',\n",
    "respectively. We can use the database to search\n",
    "for interesting objects and note their IDs to provide them to\n",
    "MARTINI. A very simple query for central galaxies with a maximum\n",
    "circular velocity between 150 and 250 km/s and a star formation\n",
    "rate > 0.5 Msun/yr is provided below, this can be copied into the database search interface. These cuts make the presence\n",
    "of a disc of cold gas likely."
   ]
  },
  {
   "cell_type": "code",
   "execution_count": null,
   "metadata": {},
   "outputs": [],
   "source": [
    "\"\"\"\n",
    "SELECT         \n",
    " GroupNumber as fof,   \n",
    " SubGroupNumber as sub          \n",
    "FROM  \n",
    " RefL0025N0376_SubHalo  \n",
    "WHERE   \n",
    " SnapNum = 28 \n",
    " AND SubGroupNumber = 0 \n",
    " AND Vmax > 150 \n",
    " AND Vmax < 250 \n",
    " AND StarFormationRate > .5\n",
    "\"\"\";"
   ]
  },
  {
   "cell_type": "markdown",
   "metadata": {},
   "source": [
    "This returns 27 galaxies. One of these has identifiers `(39, 0)`, we will use this one for the rest of this example:"
   ]
  },
  {
   "cell_type": "code",
   "execution_count": null,
   "metadata": {},
   "outputs": [],
   "source": [
    "fof, sub = 39, 0"
   ]
  },
  {
   "cell_type": "markdown",
   "metadata": {},
   "source": [
    "## EAGLE Example"
   ]
  },
  {
   "cell_type": "markdown",
   "metadata": {},
   "source": [
    "First, import some modules from Martini, and the units module from astropy."
   ]
  },
  {
   "cell_type": "code",
   "execution_count": null,
   "metadata": {},
   "outputs": [],
   "source": [
    "from martini.sources import EAGLESource\n",
    "from martini import DataCube, Martini\n",
    "from martini.beams import GaussianBeam\n",
    "from martini.noise import GaussianNoise\n",
    "from martini.spectral_models import GaussianSpectrum\n",
    "from martini.sph_kernels import WendlandC2Kernel\n",
    "import astropy.units as U"
   ]
  },
  {
   "cell_type": "markdown",
   "metadata": {},
   "source": [
    "The different martini sub-modules need to be initialized, \n",
    "see the [full documentation](https://martini.readthedocs.io/en/latest/) for details of all configuration options. A few suggested best-practices specific to EAGLE are outlined below."
   ]
  },
  {
   "cell_type": "markdown",
   "metadata": {},
   "source": [
    "### SOURCE"
   ]
  },
  {
   "cell_type": "markdown",
   "metadata": {},
   "source": [
    "The argument `subBoxSize` controls the half-side length of a region\n",
    "to load around the object of interest, in physical (not comoving,\n",
    "no little h) units. Using larger values will include more \n",
    "foreground/background, which may be desirable, but will also slow \n",
    "down execution and can impair the automatic routine used to find a \n",
    "disc plane. Normally it is advisable to set this to approximately\n",
    "the virial radius of the source object, or just large enough to\n",
    "capture the region of interest around it (e.g. enough to encompass\n",
    "the host of a satellite galaxy)."
   ]
  },
  {
   "cell_type": "code",
   "execution_count": null,
   "metadata": {
    "scrolled": true
   },
   "outputs": [],
   "source": [
    "source = EAGLESource(\n",
    "    snapPath=snappath,\n",
    "    snapBase=snapfile,\n",
    "    fof=fof,\n",
    "    sub=sub,\n",
    "    db_user=username,\n",
    "    db_key=password,\n",
    "    subBoxSize=150 * U.kpc,\n",
    "    distance=4 * U.Mpc,\n",
    "    vpeculiar=0 * U.km / U.s,\n",
    "    rotation={\"rotmat\": np.eye(3)},\n",
    "    ra=0.0 * U.deg,\n",
    "    dec=0.0 * U.deg,\n",
    ")"
   ]
  },
  {
   "cell_type": "markdown",
   "metadata": {},
   "source": [
    "If you have not entered your username and password in an earlier cell, you can edit the `db_user` and `db_key` arguments to provide them. The `db_key` (password) argument can also be omitted, in which case you'll be prompted to enter it interactively.\n",
    "\n",
    "The rotation argument above has been set to the identity matrix, so the source has the (random) orientation that it has within the simulation volume. The source class includes a function to make a quick plot to get an idea of the source's appearance:"
   ]
  },
  {
   "cell_type": "code",
   "execution_count": null,
   "metadata": {},
   "outputs": [],
   "source": [
    "preview_fig_unrotated = source.preview(title=\"unrotated\")"
   ]
  },
  {
   "cell_type": "markdown",
   "metadata": {},
   "source": [
    "The preview function defaults to apertures in position and velocity that enclose all particles in the source, so this preview emphasizes the diffuse circumgalactic gas. The apertures can be set manually using the `lim` and `vlim` keywords to set the maximum absolute offsets in position and velocity relative to the source centre to be plotted. For example, restricting the aperture to 50kpc and 300km/s makes the disc more clearly visible."
   ]
  },
  {
   "cell_type": "code",
   "execution_count": null,
   "metadata": {},
   "outputs": [],
   "source": [
    "preview_fig_unrotated_zoom = source.preview(\n",
    "    title=\"unrotated, zoomed-in\",\n",
    "    lim=50 * U.kpc,\n",
    "    vlim=300 * U.km / U.s,\n",
    ")"
   ]
  },
  {
   "cell_type": "markdown",
   "metadata": {},
   "source": [
    "This randomly-oriented viewing angle seems to be close to edge-on. The source can be rotated to a different orientation. MARTINI's tool for quick/approximate manipulation of the orientation of the source aligns the source based on its angular momentum vector (\"L\"), for example:"
   ]
  },
  {
   "cell_type": "code",
   "execution_count": null,
   "metadata": {},
   "outputs": [],
   "source": [
    "source.rotate(L_coords=(60 * U.deg, 90 * U.deg))"
   ]
  },
  {
   "cell_type": "markdown",
   "metadata": {},
   "source": [
    "The rotation configuration takes an inclination (here 60deg) and rotation about the pole (here 90deg, relative to an arbitrary reference direction). The code attempts to\n",
    "automatically align the galactic disk in the y-z plane by aligning\n",
    "the angular momentum along the x-axis. The polar rotation is then\n",
    "applied, and finally the disc inclined by a rotation around the\n",
    "y-axis (the line of sight is along the x-axis). The automatic\n",
    "alignment will work for typical reasonably isolated discs, but will\n",
    "struggle when companions are present, when the angular momentum axis\n",
    "is a poor tracer of the disc plane, and especially for satellites."
   ]
  },
  {
   "cell_type": "code",
   "execution_count": null,
   "metadata": {},
   "outputs": [],
   "source": [
    "preview_fig_rotated_zoomed_in = source.preview(\n",
    "    title=\"rotated, zoomed-in\",\n",
    "    lim=50 * U.kpc,\n",
    "    vlim=300 * U.km / U.s,\n",
    ")"
   ]
  },
  {
   "cell_type": "markdown",
   "metadata": {},
   "source": [
    "If finer control of the orientation is needed, derive the transformation from the simulation box coordinates (see [the documentation](https://martini.readthedocs.io/en/latest/) for examples) to the desired coordinates for the 'observation', keeping in mind that the line of sight is along the x-axis. This rotation matrix can then be passed to the rotate function as `rotmat=np.eye(3)` (here the identity rotation matrix used as a place holder). The rotation can also be provided when the source is initialized by using the `rotation` keyword argument.\n",
    "\n",
    "A common problem is deriving the inverse transform instead of the forward transform, if unexpected results are obtained, first try passing the transpose of the rotation matrix."
   ]
  },
  {
   "cell_type": "markdown",
   "metadata": {
    "tags": []
   },
   "source": [
    "### DATACUBE"
   ]
  },
  {
   "cell_type": "markdown",
   "metadata": {},
   "source": [
    "It is usually advisable to set the centre of the cube to track the\n",
    "centre of the source, as illustrated below. Note that the source\n",
    "systemic velocity is set according to the distance, peculiar velocity, and Hubble's law.\n",
    "These values can instead be set explicitly, if desired. A datacube\n",
    "with 128x128 pixels usually takes a few minutes, depending on the number of particles. 1024x1024 can easily take\n",
    "several hours. The number of channels has less influence on the\n",
    "runtime. Most of the runtime is spent when `M.insert_source_in_cube` is\n",
    "called below."
   ]
  },
  {
   "cell_type": "code",
   "execution_count": null,
   "metadata": {},
   "outputs": [],
   "source": [
    "datacube = DataCube(\n",
    "    n_px_x=384,\n",
    "    n_px_y=384,\n",
    "    n_channels=50,\n",
    "    px_size=10.0 * U.arcsec,\n",
    "    channel_width=16.0 * U.km * U.s**-1,\n",
    "    velocity_centre=source.vsys,\n",
    "    ra=source.ra,\n",
    "    dec=source.dec,\n",
    ")"
   ]
  },
  {
   "cell_type": "markdown",
   "metadata": {},
   "source": [
    "### BEAM"
   ]
  },
  {
   "cell_type": "markdown",
   "metadata": {},
   "source": [
    "It is usually advisable to set the beam size to be ~3x the pixel\n",
    "size. Note that the data cube is padded according to the size of the\n",
    "beam, this usually results in the number of pixel rows printed in the\n",
    "progress messages to differ from the requested dimensions. The\n",
    "padding is required for accurate convolution with the beam, but\n",
    "contains incorrect values after convolution and is discarded to\n",
    "produce the final data cube of the requested size."
   ]
  },
  {
   "cell_type": "code",
   "execution_count": null,
   "metadata": {},
   "outputs": [],
   "source": [
    "beam = GaussianBeam(\n",
    "    bmaj=30.0 * U.arcsec, bmin=30.0 * U.arcsec, bpa=0.0 * U.deg, truncate=3.0\n",
    ")"
   ]
  },
  {
   "cell_type": "markdown",
   "metadata": {
    "tags": []
   },
   "source": [
    "### NOISE"
   ]
  },
  {
   "cell_type": "markdown",
   "metadata": {},
   "source": [
    "The noise is normally added before convolution with the beam (as\n",
    "below in this example). The rms value passed is that corresponding to the desired noise level in the final data cube, in Jy/beam or equivalent units. To obtain consistent random realisations each time the code is run, we provide a random seed (integer)."
   ]
  },
  {
   "cell_type": "code",
   "execution_count": null,
   "metadata": {},
   "outputs": [],
   "source": [
    "noise = GaussianNoise(\n",
    "    rms=3.0e-8 * U.Jy * U.arcsec**-2,\n",
    "    seed=0,\n",
    ")"
   ]
  },
  {
   "cell_type": "markdown",
   "metadata": {},
   "source": [
    "### SPECTRAL MODEL"
   ]
  },
  {
   "cell_type": "markdown",
   "metadata": {},
   "source": [
    "The `thermal` mode estimates the HI line width for each particle based on its properties (temperature, etc.). The 'subgrid' velocity dispersion can also be fixed to a constant value, e.g. `sigma=7 * U.km / U.s`."
   ]
  },
  {
   "cell_type": "code",
   "execution_count": null,
   "metadata": {},
   "outputs": [],
   "source": [
    "spectral_model = GaussianSpectrum(sigma=\"thermal\")"
   ]
  },
  {
   "cell_type": "markdown",
   "metadata": {},
   "source": [
    "The calculation of the spectra (that will happen when the `Martini` module is initialized below) can be done in parallel by providing a keyword argument `ncpu=N`, where `N` is the number of CPUs to use. However, the details of the implementation mean that for small numbers of particles running in parallel tends to slow down the calculation, so turning this on should be done with care. Significant speedups can be expected when the particle count is very large."
   ]
  },
  {
   "cell_type": "markdown",
   "metadata": {},
   "source": [
    "### SPH KERNEL"
   ]
  },
  {
   "cell_type": "markdown",
   "metadata": {},
   "source": [
    "The EAGLE simulations use a Wendland C2 smoothing kernel, so we should prefer to use MARTINI's `WendlandC2Kernel` module."
   ]
  },
  {
   "cell_type": "code",
   "execution_count": null,
   "metadata": {},
   "outputs": [],
   "source": [
    "sph_kernel = WendlandC2Kernel()"
   ]
  },
  {
   "cell_type": "markdown",
   "metadata": {},
   "source": [
    "### MARTINI"
   ]
  },
  {
   "cell_type": "markdown",
   "metadata": {},
   "source": [
    "Now set up the configuration:"
   ]
  },
  {
   "cell_type": "code",
   "execution_count": null,
   "metadata": {},
   "outputs": [],
   "source": [
    "M = Martini(\n",
    "    source=source,\n",
    "    datacube=datacube,\n",
    "    beam=beam,\n",
    "    noise=noise,\n",
    "    spectral_model=spectral_model,\n",
    "    sph_kernel=sph_kernel,\n",
    ")"
   ]
  },
  {
   "cell_type": "markdown",
   "metadata": {},
   "source": [
    "Similar to previewing the source, we can make a preview here. Now the extent of the datacube is overlaid with a red box."
   ]
  },
  {
   "cell_type": "code",
   "execution_count": null,
   "metadata": {},
   "outputs": [],
   "source": [
    "M.preview()"
   ]
  },
  {
   "cell_type": "markdown",
   "metadata": {},
   "source": [
    "If we're happy with the preview, we're ready to call the functions to make the actual mock observation."
   ]
  },
  {
   "cell_type": "code",
   "execution_count": null,
   "metadata": {},
   "outputs": [],
   "source": [
    "M.insert_source_in_cube()\n",
    "M.add_noise()\n",
    "M.convolve_beam()"
   ]
  },
  {
   "cell_type": "markdown",
   "metadata": {},
   "source": [
    "The main source insertion loop, that is the most computationally demanding step, can be run in parallel if the `multiprocess` package is installed (not to be confused with `multiprocessing`, which is normally included with python!). Simply use `M.insert_source_in_cube(ncpu=N)`, where `N` is the number of processes to run in parallel. \n",
    "\n",
    "You may notice that the number of pixels in the progress counter differs from the number defined in the DataCube module. This is because convolution with the beam requires some padding, which is ultimately filled with nonsense and discarded.\n",
    "\n",
    "To write the results: two output formats are available, depending on preference. Both\n",
    "formats are self-documenting, via FITS header keywords and HDF5\n",
    "attributes, respectively. For HDF5 output, the beam image is included\n",
    "in the same file. (If you do not have h5py installed, comment out the call to `write_hdf5`.)"
   ]
  },
  {
   "cell_type": "code",
   "execution_count": null,
   "metadata": {},
   "outputs": [],
   "source": [
    "M.write_fits(\"eagle_martini_demo.fits\", channels=\"velocity\")\n",
    "M.write_beam_fits(\"eagle_martini_demo_beam.fits\", channels=\"velocity\")\n",
    "M.write_hdf5(\"eagle_martini_demo.hdf5\", channels=\"velocity\")"
   ]
  },
  {
   "cell_type": "markdown",
   "metadata": {},
   "source": [
    "### Inspect the results (FITS)"
   ]
  },
  {
   "cell_type": "markdown",
   "metadata": {},
   "source": [
    "Let's load the FITS file that MARTINI produced and take a quick look."
   ]
  },
  {
   "cell_type": "code",
   "execution_count": null,
   "metadata": {},
   "outputs": [],
   "source": [
    "import numpy as np\n",
    "from astropy.io import fits\n",
    "from astropy.wcs import WCS\n",
    "\n",
    "with fits.open(\"eagle_martini_demo.fits\") as f:\n",
    "    cube_wcs = WCS(f[0].header)\n",
    "    flux_cube = f[0].data * U.Unit(f[0].header[\"BUNIT\"])\n",
    "    n_channels = cube_wcs.pixel_shape[cube_wcs.wcs.spec]\n",
    "    vch = np.array(cube_wcs.sub(axes=[3]).all_pix2world(np.arange(n_channels), 0))[\n",
    "        0\n",
    "    ] * U.Unit(cube_wcs.world_axis_units[cube_wcs.wcs.spec])\n",
    "    vch = vch - source.vsys"
   ]
  },
  {
   "cell_type": "code",
   "execution_count": null,
   "metadata": {},
   "outputs": [],
   "source": [
    "FluxCube.shape"
   ]
  },
  {
   "cell_type": "markdown",
   "metadata": {},
   "source": [
    "Let's examine one of the velocity channels:"
   ]
  },
  {
   "cell_type": "code",
   "execution_count": null,
   "metadata": {},
   "outputs": [],
   "source": [
    "import matplotlib.pyplot as plt"
   ]
  },
  {
   "cell_type": "code",
   "execution_count": null,
   "metadata": {},
   "outputs": [],
   "source": [
    "fig = plt.figure(figsize=(5, 5))\n",
    "plt.clf()\n",
    "ax = fig.add_subplot(1, 1, 1, aspect=\"equal\", projection=cube_wcs.celestial)\n",
    "\n",
    "# choose units for plotting, not necessarily the units data are stored in:\n",
    "flux_unit = U.Jy / U.beam\n",
    "\n",
    "plt.imshow(flux_cube[26, ...].to_value(flux_unit), cmap=\"Greys\")\n",
    "plt.xlabel(\"RA\")\n",
    "plt.ylabel(\"Dec\")\n",
    "plt.colorbar(label=f\"Flux [{flux_unit}]\");"
   ]
  },
  {
   "cell_type": "markdown",
   "metadata": {},
   "source": [
    "And do a quick plot of the first three moments:"
   ]
  },
  {
   "cell_type": "code",
   "execution_count": null,
   "metadata": {},
   "outputs": [],
   "source": [
    "import numpy as np\n",
    "\n",
    "# choose plotting units\n",
    "mom0_unit = U.Jy / U.beam\n",
    "mom1_unit = U.km / U.s\n",
    "mom2_unit = U.km / U.s\n",
    "\n",
    "rms = np.std(\n",
    "    flux_cube[:, :20, :20]\n",
    ")  # noise in a corner patch where there is little signal\n",
    "clip = np.where(flux_cube > 5 * rms, 1, 0)\n",
    "np.seterr(all=\"ignore\")\n",
    "fig = plt.figure(figsize=(16, 5))\n",
    "plt.clf()\n",
    "sp1 = fig.add_subplot(1, 3, 1, aspect=\"equal\", projection=cube_wcs.celestial)\n",
    "sp2 = fig.add_subplot(1, 3, 2, aspect=\"equal\", projection=cube_wcs.celestial)\n",
    "sp3 = fig.add_subplot(1, 3, 3, aspect=\"equal\", projection=cube_wcs.celestial)\n",
    "mom0 = np.sum(flux_cube, axis=0)\n",
    "mask = np.where(mom0 > 20 * U.Jy / U.beam, 1, np.nan)\n",
    "mom1 = np.sum(flux_cube * clip * vch[:, np.newaxis, np.newaxis], axis=0) / mom0\n",
    "mom2 = np.sqrt(\n",
    "    np.sum(\n",
    "        flux_cube\n",
    "        * clip\n",
    "        * np.power(vch[:, np.newaxis, np.newaxis] - mom1[np.newaxis], 2),\n",
    "        axis=0,\n",
    "    )\n",
    "    / mom0\n",
    ")\n",
    "im1 = sp1.imshow(mom0.to_value(mom0_unit), cmap=\"Greys\")\n",
    "plt.colorbar(im1, ax=sp1, label=f\"mom0 [{mom0_unit}]\")\n",
    "im2 = sp2.imshow(\n",
    "    (mom1 * mask).to_value(mom1_unit),\n",
    "    cmap=\"RdBu\",\n",
    "    vmin=-np.nanmax(np.abs(mom1 * mask)).to_value(mom1_unit),\n",
    "    vmax=np.nanmax(np.abs(mom1 * mask)).to_value(mom1_unit),\n",
    ")\n",
    "plt.colorbar(im2, ax=sp2, label=f\"mom1 [{mom1_unit}]\")\n",
    "im3 = sp3.imshow(\n",
    "    (mom2 * mask).to_value(mom2_unit),\n",
    "    cmap=\"magma\",\n",
    ")\n",
    "plt.colorbar(im3, ax=sp3, label=f\"mom2 [{mom2_unit}]\")\n",
    "for sp in sp1, sp2, sp3:\n",
    "    sp.set_xlabel(\"RA\")\n",
    "    sp.set_ylabel(\"Dec\")\n",
    "\n",
    "plt.subplots_adjust(wspace=0.3)"
   ]
  },
  {
   "cell_type": "markdown",
   "metadata": {},
   "source": [
    "This galaxy clearly has a ring morphology in HI, and a nice rotation-dominated velocity field. The alignment of the disc looks as expected - the inclination looks to be about 60 degrees, and the position angle is horizontal in the figure - in this case the automated orientation function has performed well, though it should never be assumed that this will always be the case!\n",
    "\n",
    "For complete documentation, more usage examples, and further information, please take a look at the [MARTINI webpage](https://martini.readthedocs.io/en/latest/)."
   ]
  },
  {
   "cell_type": "markdown",
   "metadata": {},
   "source": [
    "### Inspect the results (HDF5)"
   ]
  },
  {
   "cell_type": "markdown",
   "metadata": {},
   "source": [
    "Let's load the HDF5 that MARTINI produced and take a quick look."
   ]
  },
  {
   "cell_type": "code",
   "execution_count": null,
   "metadata": {},
   "outputs": [],
   "source": [
    "import h5py\n",
    "\n",
    "f = h5py.File(\"eagle_martini_demo.hdf5\", \"r\")"
   ]
  },
  {
   "cell_type": "code",
   "execution_count": null,
   "metadata": {},
   "outputs": [],
   "source": [
    "list(f.keys())"
   ]
  },
  {
   "cell_type": "markdown",
   "metadata": {},
   "source": [
    "In addition to the mock cube itself (`f[\"FluxCube\"]`), the HDF5 output contains arrays of the same size with the coordinates of the centre of each cell in the cube in RA, Dec and spectral space (`f[\"RA\"]`,`f[\"Dec\"]` and `f[\"channel_mids\"]`). There are also arrays longer by one in each dimension that contain the coordinates of the corners of each cell in the cube (`f[\"RA_vertices\"]`,`f[\"Dec_vertices\"]` and `f[\"channel_vertices\"]`). The latter are convenient for use with the `pcolormesh` plotting function from matplotlib, so we'll read these."
   ]
  },
  {
   "cell_type": "code",
   "execution_count": null,
   "metadata": {},
   "outputs": [],
   "source": [
    "flux_cube = f[\"FluxCube\"][()] * U.Unit(f[\"FluxCube\"].attrs[\"FluxCubeUnit\"])\n",
    "ra_vertices = f[\"RA_vertices\"][()] * U.Unit(f[\"RA_vertices\"].attrs[\"Unit\"])\n",
    "dec_vertices = f[\"Dec_vertices\"][()] * U.Unit(f[\"RA_vertices\"].attrs[\"Unit\"])\n",
    "spec_vertices = f[\"channel_vertices\"][()] * U.Unit(f[\"channel_vertices\"].attrs[\"Unit\"])\n",
    "vch = (\n",
    "    f[\"velocity_channel_mids\"][()] * U.Unit(f[\"velocity_channel_mids\"].attrs[\"Unit\"])\n",
    "    - source.vsys\n",
    ")\n",
    "f.close()"
   ]
  },
  {
   "cell_type": "markdown",
   "metadata": {},
   "source": [
    "The RA range of our cube straddles the RA=0 boundary, let's shift the `ra_vertices` to a (-180, 180] range for plotting:"
   ]
  },
  {
   "cell_type": "code",
   "execution_count": null,
   "metadata": {},
   "outputs": [],
   "source": [
    "ra_vertices = np.where(\n",
    "    ra_vertices > 180 * U.deg, ra_vertices - 360 * U.deg, ra_vertices\n",
    ")"
   ]
  },
  {
   "cell_type": "code",
   "execution_count": null,
   "metadata": {},
   "outputs": [],
   "source": [
    "flux_cube.shape"
   ]
  },
  {
   "cell_type": "markdown",
   "metadata": {},
   "source": [
    "Let's examine one of the velocity channels:"
   ]
  },
  {
   "cell_type": "code",
   "execution_count": null,
   "metadata": {},
   "outputs": [],
   "source": [
    "import matplotlib.pyplot as plt"
   ]
  },
  {
   "cell_type": "code",
   "execution_count": null,
   "metadata": {},
   "outputs": [],
   "source": [
    "fig = plt.figure(figsize=(5, 5))\n",
    "ax = fig.add_subplot(1, 1, 1, aspect=\"equal\")\n",
    "\n",
    "channel_slice = np.s_[:, :, 26]  # a slice of the data cube containing one channel\n",
    "\n",
    "# choose units for plotting, not necessarily the units data are stored in:\n",
    "ra_unit = U.deg\n",
    "dec_unit = U.deg\n",
    "flux_unit = U.Jy / U.beam\n",
    "\n",
    "plt.pcolormesh(\n",
    "    ra_vertices[channel_slice].to_value(ra_unit),\n",
    "    dec_vertices[channel_slice].to_value(dec_unit),\n",
    "    flux_cube[channel_slice].to_value(flux_unit),\n",
    "    cmap=\"Greys\",\n",
    ")\n",
    "ax.set_xlabel(f\"RA [{ra_unit}]\")\n",
    "ax.set_ylabel(f\"Dec [{dec_unit}]\")\n",
    "ax.set_xlim(ax.get_xlim()[::-1])\n",
    "plt.colorbar(label=f\"Flux [{flux_unit}]\");"
   ]
  },
  {
   "cell_type": "markdown",
   "metadata": {},
   "source": [
    "And do a quick plot of the first three moments:"
   ]
  },
  {
   "cell_type": "code",
   "execution_count": null,
   "metadata": {},
   "outputs": [],
   "source": [
    "import numpy as np\n",
    "\n",
    "# choose units for plotting, not necessarily the units data are stored in:\n",
    "ra_unit = U.deg\n",
    "dec_unit = U.deg\n",
    "mom0_unit = U.Jy / U.beam\n",
    "mom1_unit = U.km / U.s\n",
    "mom2_unit = U.km / U.s\n",
    "\n",
    "np.seterr(all=\"ignore\")\n",
    "fig = plt.figure(figsize=(16, 5))\n",
    "sp1 = fig.add_subplot(1, 3, 1, aspect=\"equal\")\n",
    "sp2 = fig.add_subplot(1, 3, 2, aspect=\"equal\")\n",
    "sp3 = fig.add_subplot(1, 3, 3, aspect=\"equal\")\n",
    "rms = np.std(\n",
    "    flux_cube[:20, :20]\n",
    ")  # noise in a corner patch where there is little signal\n",
    "clip = np.where(flux_cube > 5 * rms, 1, 0)\n",
    "mom0 = np.sum(flux_cube, axis=-1)\n",
    "mask = np.where(mom0 > 20 * U.Jy / U.beam, 1, np.nan)\n",
    "mom1 = np.sum(flux_cube * clip * vch, axis=-1) / mom0\n",
    "mom2 = np.sqrt(\n",
    "    np.sum(flux_cube * clip * np.power(vch - mom1[..., np.newaxis], 2), axis=-1) / mom0\n",
    ")\n",
    "im1 = sp1.pcolormesh(\n",
    "    ra_vertices[..., 0].to_value(\n",
    "        ra_unit\n",
    "    ),  # pick one channel, coordinates are the same in all of them\n",
    "    dec_vertices[..., 0].to_value(\n",
    "        dec_unit\n",
    "    ),  # pick one channel, coordinates are the same in all of them\n",
    "    mom0.to_value(mom0_unit),\n",
    "    cmap=\"Greys\",\n",
    ")\n",
    "plt.colorbar(im1, ax=sp1, label=f\"mom0 [{mom0_unit}]\")\n",
    "im2 = sp2.pcolormesh(\n",
    "    ra_vertices[..., 0].to_value(\n",
    "        ra_unit\n",
    "    ),  # pick one channel, coordinates are the same in all of them\n",
    "    dec_vertices[..., 0].to_value(\n",
    "        dec_unit\n",
    "    ),  # pick one channel, coordinates are the same in all of them\n",
    "    (mom1 * mask).to_value(mom1_unit),\n",
    "    cmap=\"RdBu_r\",\n",
    "    vmin=-np.nanmax(np.abs(mom1 * mask)).to_value(mom1_unit),\n",
    "    vmax=np.nanmax(np.abs(mom1 * mask)).to_value(mom1_unit),\n",
    ")\n",
    "plt.colorbar(im2, ax=sp2, label=f\"mom1 [{mom1_unit}]\")\n",
    "im3 = sp3.pcolormesh(\n",
    "    ra_vertices[..., 0].to_value(\n",
    "        ra_unit\n",
    "    ),  # pick one channel, coordinates are the same in all of them\n",
    "    dec_vertices[..., 0].to_value(\n",
    "        dec_unit\n",
    "    ),  # pick one channel, coordinates are the same in all of them\n",
    "    (mom2 * mask).to_value(mom2_unit),\n",
    "    cmap=\"magma\",\n",
    "    vmin=0,\n",
    ")\n",
    "plt.colorbar(im3, ax=sp3, label=f\"mom2 [{mom2_unit}]\")\n",
    "for sp in sp1, sp2, sp3:\n",
    "    sp.set_xlabel(f\"RA [{ra_unit}]\")\n",
    "    sp.set_ylabel(f\"Dec [{dec_unit}]\")\n",
    "    sp.set_xlim(sp.get_xlim()[::-1])\n",
    "plt.subplots_adjust(wspace=0.3)"
   ]
  },
  {
   "cell_type": "markdown",
   "metadata": {},
   "source": [
    "This galaxy clearly has a ring morphology in HI, and a nice rotation-dominated velocity field. The alignment of the disc looks as expected - the inclination looks to be about 60 degrees, and the position angle is horizontal in the figure - in this case the automated orientation function has performed well, though it should never be assumed that this will always be the case!\n",
    "\n",
    "For complete documentation, more usage examples, and further information, please take a look at the [MARTINI webpage](https://martini.readthedocs.io/en/latest/)."
   ]
  }
 ],
 "metadata": {
  "kernelspec": {
   "display_name": "Python 3 (ipykernel)",
   "language": "python",
   "name": "python3"
  },
  "language_info": {
   "codemirror_mode": {
    "name": "ipython",
    "version": 3
   },
   "file_extension": ".py",
   "mimetype": "text/x-python",
   "name": "python",
   "nbconvert_exporter": "python",
   "pygments_lexer": "ipython3",
   "version": "3.11.0rc1"
  }
 },
 "nbformat": 4,
 "nbformat_minor": 4
}
